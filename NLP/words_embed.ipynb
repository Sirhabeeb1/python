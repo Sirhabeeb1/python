{
 "cells": [
  {
   "cell_type": "code",
   "execution_count": 1,
   "id": "ad3675a9-2654-4e63-93a5-16417cf7bdb0",
   "metadata": {
    "scrolled": true
   },
   "outputs": [
    {
     "name": "stdout",
     "output_type": "stream",
     "text": [
      "Collecting gensim\n",
      "  Downloading gensim-4.3.3-cp38-cp38-win_amd64.whl.metadata (8.2 kB)\n",
      "Requirement already satisfied: numpy<2.0,>=1.18.5 in c:\\users\\hp\\anaconda3\\envs\\tf\\lib\\site-packages (from gensim) (1.23.5)\n",
      "Requirement already satisfied: scipy<1.14.0,>=1.7.0 in c:\\users\\hp\\anaconda3\\envs\\tf\\lib\\site-packages (from gensim) (1.10.1)\n",
      "Collecting smart-open>=1.8.1 (from gensim)\n",
      "  Downloading smart_open-7.1.0-py3-none-any.whl.metadata (24 kB)\n",
      "Requirement already satisfied: wrapt in c:\\users\\hp\\anaconda3\\envs\\tf\\lib\\site-packages (from smart-open>=1.8.1->gensim) (1.16.0)\n",
      "Downloading gensim-4.3.3-cp38-cp38-win_amd64.whl (24.0 MB)\n",
      "   ---------------------------------------- 0.0/24.0 MB ? eta -:--:--\n",
      "   ---------------------------------------- 0.0/24.0 MB ? eta -:--:--\n",
      "   ---------------------------------------- 0.0/24.0 MB ? eta -:--:--\n",
      "   ---------------------------------------- 0.3/24.0 MB ? eta -:--:--\n",
      "    --------------------------------------- 0.5/24.0 MB 762.0 kB/s eta 0:00:31\n",
      "    --------------------------------------- 0.5/24.0 MB 762.0 kB/s eta 0:00:31\n",
      "   - -------------------------------------- 0.8/24.0 MB 780.2 kB/s eta 0:00:30\n",
      "   - -------------------------------------- 1.0/24.0 MB 786.4 kB/s eta 0:00:30\n",
      "   - -------------------------------------- 1.0/24.0 MB 786.4 kB/s eta 0:00:30\n",
      "   -- ------------------------------------- 1.3/24.0 MB 789.6 kB/s eta 0:00:29\n",
      "   -- ------------------------------------- 1.6/24.0 MB 830.6 kB/s eta 0:00:28\n",
      "   --- ------------------------------------ 1.8/24.0 MB 853.0 kB/s eta 0:00:27\n",
      "   --- ------------------------------------ 2.1/24.0 MB 870.1 kB/s eta 0:00:26\n",
      "   --- ------------------------------------ 2.1/24.0 MB 870.1 kB/s eta 0:00:26\n",
      "   --- ------------------------------------ 2.4/24.0 MB 865.9 kB/s eta 0:00:26\n",
      "   ---- ----------------------------------- 2.6/24.0 MB 872.8 kB/s eta 0:00:25\n",
      "   ---- ----------------------------------- 2.6/24.0 MB 872.8 kB/s eta 0:00:25\n",
      "   ---- ----------------------------------- 2.9/24.0 MB 878.5 kB/s eta 0:00:25\n",
      "   ----- ---------------------------------- 3.1/24.0 MB 895.8 kB/s eta 0:00:24\n",
      "   ----- ---------------------------------- 3.4/24.0 MB 894.7 kB/s eta 0:00:24\n",
      "   ------ --------------------------------- 3.7/24.0 MB 912.7 kB/s eta 0:00:23\n",
      "   ------ --------------------------------- 3.9/24.0 MB 924.7 kB/s eta 0:00:22\n",
      "   ------ --------------------------------- 4.2/24.0 MB 938.9 kB/s eta 0:00:22\n",
      "   ------- -------------------------------- 4.5/24.0 MB 952.0 kB/s eta 0:00:21\n",
      "   ------- -------------------------------- 4.7/24.0 MB 960.2 kB/s eta 0:00:21\n",
      "   -------- ------------------------------- 5.0/24.0 MB 971.1 kB/s eta 0:00:20\n",
      "   -------- ------------------------------- 5.2/24.0 MB 983.8 kB/s eta 0:00:20\n",
      "   -------- ------------------------------- 5.2/24.0 MB 983.8 kB/s eta 0:00:20\n",
      "   --------- ------------------------------ 5.5/24.0 MB 986.8 kB/s eta 0:00:19\n",
      "   --------- ------------------------------ 5.8/24.0 MB 998.0 kB/s eta 0:00:19\n",
      "   ---------- ----------------------------- 6.0/24.0 MB 1.0 MB/s eta 0:00:18\n",
      "   ---------- ----------------------------- 6.3/24.0 MB 1.0 MB/s eta 0:00:18\n",
      "   ---------- ----------------------------- 6.6/24.0 MB 1.0 MB/s eta 0:00:18\n",
      "   ----------- ---------------------------- 6.8/24.0 MB 1.0 MB/s eta 0:00:17\n",
      "   ----------- ---------------------------- 7.1/24.0 MB 1.0 MB/s eta 0:00:17\n",
      "   ------------ --------------------------- 7.3/24.0 MB 1.0 MB/s eta 0:00:17\n",
      "   ------------ --------------------------- 7.6/24.0 MB 1.0 MB/s eta 0:00:16\n",
      "   ------------- -------------------------- 7.9/24.0 MB 1.0 MB/s eta 0:00:16\n",
      "   ------------- -------------------------- 8.1/24.0 MB 1.0 MB/s eta 0:00:16\n",
      "   ------------- -------------------------- 8.4/24.0 MB 1.1 MB/s eta 0:00:15\n",
      "   -------------- ------------------------- 8.7/24.0 MB 1.0 MB/s eta 0:00:15\n",
      "   -------------- ------------------------- 8.7/24.0 MB 1.0 MB/s eta 0:00:15\n",
      "   -------------- ------------------------- 8.9/24.0 MB 1.0 MB/s eta 0:00:15\n",
      "   --------------- ------------------------ 9.2/24.0 MB 1.0 MB/s eta 0:00:15\n",
      "   --------------- ------------------------ 9.4/24.0 MB 1.0 MB/s eta 0:00:15\n",
      "   ---------------- ----------------------- 9.7/24.0 MB 1.0 MB/s eta 0:00:14\n",
      "   ---------------- ----------------------- 10.0/24.0 MB 1.0 MB/s eta 0:00:14\n",
      "   ---------------- ----------------------- 10.0/24.0 MB 1.0 MB/s eta 0:00:14\n",
      "   ----------------- ---------------------- 10.2/24.0 MB 1.0 MB/s eta 0:00:14\n",
      "   ----------------- ---------------------- 10.5/24.0 MB 1.0 MB/s eta 0:00:13\n",
      "   ----------------- ---------------------- 10.7/24.0 MB 1.0 MB/s eta 0:00:13\n",
      "   ------------------ --------------------- 11.0/24.0 MB 1.0 MB/s eta 0:00:13\n",
      "   ------------------ --------------------- 11.0/24.0 MB 1.0 MB/s eta 0:00:13\n",
      "   ------------------ --------------------- 11.3/24.0 MB 1.0 MB/s eta 0:00:13\n",
      "   ------------------- -------------------- 11.5/24.0 MB 1.0 MB/s eta 0:00:13\n",
      "   ------------------- -------------------- 11.8/24.0 MB 1.0 MB/s eta 0:00:12\n",
      "   ------------------- -------------------- 11.8/24.0 MB 1.0 MB/s eta 0:00:12\n",
      "   -------------------- ------------------- 12.1/24.0 MB 1.0 MB/s eta 0:00:12\n",
      "   -------------------- ------------------- 12.3/24.0 MB 1.0 MB/s eta 0:00:12\n",
      "   -------------------- ------------------- 12.3/24.0 MB 1.0 MB/s eta 0:00:12\n",
      "   -------------------- ------------------- 12.3/24.0 MB 1.0 MB/s eta 0:00:12\n",
      "   -------------------- ------------------- 12.6/24.0 MB 991.9 kB/s eta 0:00:12\n",
      "   -------------------- ------------------- 12.6/24.0 MB 991.9 kB/s eta 0:00:12\n",
      "   --------------------- ------------------ 12.8/24.0 MB 983.3 kB/s eta 0:00:12\n",
      "   --------------------- ------------------ 13.1/24.0 MB 977.5 kB/s eta 0:00:12\n",
      "   --------------------- ------------------ 13.1/24.0 MB 977.5 kB/s eta 0:00:12\n",
      "   ---------------------- ----------------- 13.4/24.0 MB 974.3 kB/s eta 0:00:11\n",
      "   ---------------------- ----------------- 13.6/24.0 MB 970.1 kB/s eta 0:00:11\n",
      "   ---------------------- ----------------- 13.6/24.0 MB 970.1 kB/s eta 0:00:11\n",
      "   ----------------------- ---------------- 13.9/24.0 MB 967.2 kB/s eta 0:00:11\n",
      "   ----------------------- ---------------- 14.2/24.0 MB 963.4 kB/s eta 0:00:11\n",
      "   ------------------------ --------------- 14.4/24.0 MB 961.7 kB/s eta 0:00:10\n",
      "   ------------------------ --------------- 14.4/24.0 MB 961.7 kB/s eta 0:00:10\n",
      "   ------------------------ --------------- 14.7/24.0 MB 959.2 kB/s eta 0:00:10\n",
      "   ------------------------ --------------- 14.7/24.0 MB 959.2 kB/s eta 0:00:10\n",
      "   ------------------------ --------------- 14.9/24.0 MB 954.8 kB/s eta 0:00:10\n",
      "   ------------------------- -------------- 15.2/24.0 MB 953.4 kB/s eta 0:00:10\n",
      "   ------------------------- -------------- 15.5/24.0 MB 953.1 kB/s eta 0:00:09\n",
      "   ------------------------- -------------- 15.5/24.0 MB 953.1 kB/s eta 0:00:09\n",
      "   -------------------------- ------------- 15.7/24.0 MB 950.8 kB/s eta 0:00:09\n",
      "   -------------------------- ------------- 16.0/24.0 MB 949.6 kB/s eta 0:00:09\n",
      "   --------------------------- ------------ 16.3/24.0 MB 948.5 kB/s eta 0:00:09\n",
      "   --------------------------- ------------ 16.3/24.0 MB 948.5 kB/s eta 0:00:09\n",
      "   --------------------------- ------------ 16.5/24.0 MB 947.4 kB/s eta 0:00:08\n",
      "   --------------------------- ------------ 16.8/24.0 MB 945.4 kB/s eta 0:00:08\n",
      "   --------------------------- ------------ 16.8/24.0 MB 945.4 kB/s eta 0:00:08\n",
      "   ---------------------------- ----------- 17.0/24.0 MB 942.7 kB/s eta 0:00:08\n",
      "   ---------------------------- ----------- 17.0/24.0 MB 942.7 kB/s eta 0:00:08\n",
      "   ---------------------------- ----------- 17.3/24.0 MB 933.7 kB/s eta 0:00:08\n",
      "   ----------------------------- ---------- 17.6/24.0 MB 930.5 kB/s eta 0:00:07\n",
      "   ----------------------------- ---------- 17.6/24.0 MB 930.5 kB/s eta 0:00:07\n",
      "   ----------------------------- ---------- 17.8/24.0 MB 928.2 kB/s eta 0:00:07\n",
      "   ----------------------------- ---------- 17.8/24.0 MB 928.2 kB/s eta 0:00:07\n",
      "   ------------------------------ --------- 18.1/24.0 MB 919.3 kB/s eta 0:00:07\n",
      "   ------------------------------ --------- 18.1/24.0 MB 919.3 kB/s eta 0:00:07\n",
      "   ------------------------------ --------- 18.4/24.0 MB 918.7 kB/s eta 0:00:07\n",
      "   ------------------------------ --------- 18.4/24.0 MB 918.7 kB/s eta 0:00:07\n",
      "   ------------------------------ --------- 18.6/24.0 MB 911.1 kB/s eta 0:00:06\n",
      "   ------------------------------- -------- 18.9/24.0 MB 907.2 kB/s eta 0:00:06\n",
      "   ------------------------------- -------- 18.9/24.0 MB 907.2 kB/s eta 0:00:06\n",
      "   ------------------------------- -------- 19.1/24.0 MB 902.8 kB/s eta 0:00:06\n",
      "   ------------------------------- -------- 19.1/24.0 MB 902.8 kB/s eta 0:00:06\n",
      "   -------------------------------- ------- 19.4/24.0 MB 898.6 kB/s eta 0:00:06\n",
      "   -------------------------------- ------- 19.4/24.0 MB 898.6 kB/s eta 0:00:06\n",
      "   -------------------------------- ------- 19.7/24.0 MB 896.4 kB/s eta 0:00:05\n",
      "   -------------------------------- ------- 19.7/24.0 MB 896.4 kB/s eta 0:00:05\n",
      "   --------------------------------- ------ 19.9/24.0 MB 891.8 kB/s eta 0:00:05\n",
      "   --------------------------------- ------ 20.2/24.0 MB 888.5 kB/s eta 0:00:05\n",
      "   --------------------------------- ------ 20.2/24.0 MB 888.5 kB/s eta 0:00:05\n",
      "   ---------------------------------- ----- 20.4/24.0 MB 885.4 kB/s eta 0:00:05\n",
      "   ---------------------------------- ----- 20.4/24.0 MB 885.4 kB/s eta 0:00:05\n",
      "   ---------------------------------- ----- 20.7/24.0 MB 881.2 kB/s eta 0:00:04\n",
      "   ---------------------------------- ----- 20.7/24.0 MB 881.2 kB/s eta 0:00:04\n",
      "   ---------------------------------- ----- 21.0/24.0 MB 878.3 kB/s eta 0:00:04\n",
      "   ----------------------------------- ---- 21.2/24.0 MB 875.5 kB/s eta 0:00:04\n",
      "   ----------------------------------- ---- 21.2/24.0 MB 875.5 kB/s eta 0:00:04\n",
      "   ----------------------------------- ---- 21.2/24.0 MB 875.5 kB/s eta 0:00:04\n",
      "   ----------------------------------- ---- 21.5/24.0 MB 867.2 kB/s eta 0:00:03\n",
      "   ----------------------------------- ---- 21.5/24.0 MB 867.2 kB/s eta 0:00:03\n",
      "   ------------------------------------ --- 21.8/24.0 MB 864.2 kB/s eta 0:00:03\n",
      "   ------------------------------------ --- 22.0/24.0 MB 862.2 kB/s eta 0:00:03\n",
      "   ------------------------------------ --- 22.0/24.0 MB 862.2 kB/s eta 0:00:03\n",
      "   ------------------------------------- -- 22.3/24.0 MB 859.9 kB/s eta 0:00:03\n",
      "   ------------------------------------- -- 22.3/24.0 MB 859.9 kB/s eta 0:00:03\n",
      "   ------------------------------------- -- 22.5/24.0 MB 858.0 kB/s eta 0:00:02\n",
      "   ------------------------------------- -- 22.5/24.0 MB 858.0 kB/s eta 0:00:02\n",
      "   ------------------------------------- -- 22.8/24.0 MB 854.2 kB/s eta 0:00:02\n",
      "   ------------------------------------- -- 22.8/24.0 MB 854.2 kB/s eta 0:00:02\n",
      "   -------------------------------------- - 23.1/24.0 MB 852.1 kB/s eta 0:00:02\n",
      "   -------------------------------------- - 23.3/24.0 MB 849.5 kB/s eta 0:00:01\n",
      "   -------------------------------------- - 23.3/24.0 MB 849.5 kB/s eta 0:00:01\n",
      "   -------------------------------------- - 23.3/24.0 MB 849.5 kB/s eta 0:00:01\n",
      "   ---------------------------------------  23.6/24.0 MB 843.1 kB/s eta 0:00:01\n",
      "   ---------------------------------------  23.9/24.0 MB 843.1 kB/s eta 0:00:01\n",
      "   ---------------------------------------  23.9/24.0 MB 843.1 kB/s eta 0:00:01\n",
      "   ---------------------------------------- 24.0/24.0 MB 837.3 kB/s eta 0:00:00\n",
      "Downloading smart_open-7.1.0-py3-none-any.whl (61 kB)\n",
      "Installing collected packages: smart-open, gensim\n",
      "Successfully installed gensim-4.3.3 smart-open-7.1.0\n",
      "Collecting python-Levenshtein\n",
      "  Downloading python_Levenshtein-0.25.1-py3-none-any.whl.metadata (3.7 kB)\n",
      "Collecting Levenshtein==0.25.1 (from python-Levenshtein)\n",
      "  Downloading Levenshtein-0.25.1-cp38-cp38-win_amd64.whl.metadata (3.4 kB)\n",
      "Collecting rapidfuzz<4.0.0,>=3.8.0 (from Levenshtein==0.25.1->python-Levenshtein)\n",
      "  Downloading rapidfuzz-3.9.7-cp38-cp38-win_amd64.whl.metadata (12 kB)\n",
      "Downloading python_Levenshtein-0.25.1-py3-none-any.whl (9.4 kB)\n",
      "Downloading Levenshtein-0.25.1-cp38-cp38-win_amd64.whl (98 kB)\n",
      "Downloading rapidfuzz-3.9.7-cp38-cp38-win_amd64.whl (1.7 MB)\n",
      "   ---------------------------------------- 0.0/1.7 MB ? eta -:--:--\n",
      "   ---------------------------------------- 0.0/1.7 MB ? eta -:--:--\n",
      "   ------ --------------------------------- 0.3/1.7 MB ? eta -:--:--\n",
      "   ------ --------------------------------- 0.3/1.7 MB ? eta -:--:--\n",
      "   ------------ --------------------------- 0.5/1.7 MB 670.4 kB/s eta 0:00:02\n",
      "   ------------ --------------------------- 0.5/1.7 MB 670.4 kB/s eta 0:00:02\n",
      "   ------------ --------------------------- 0.5/1.7 MB 670.4 kB/s eta 0:00:02\n",
      "   ------------ --------------------------- 0.5/1.7 MB 670.4 kB/s eta 0:00:02\n",
      "   ------------------ --------------------- 0.8/1.7 MB 390.1 kB/s eta 0:00:03\n",
      "   ------------------ --------------------- 0.8/1.7 MB 390.1 kB/s eta 0:00:03\n",
      "   ------------------ --------------------- 0.8/1.7 MB 390.1 kB/s eta 0:00:03\n",
      "   ------------------------- -------------- 1.0/1.7 MB 433.8 kB/s eta 0:00:02\n",
      "   ------------------------- -------------- 1.0/1.7 MB 433.8 kB/s eta 0:00:02\n",
      "   ------------------------------- -------- 1.3/1.7 MB 450.4 kB/s eta 0:00:01\n",
      "   ------------------------------- -------- 1.3/1.7 MB 450.4 kB/s eta 0:00:01\n",
      "   ------------------------------- -------- 1.3/1.7 MB 450.4 kB/s eta 0:00:01\n",
      "   ---------------------------------------- 1.7/1.7 MB 461.7 kB/s eta 0:00:00\n",
      "Installing collected packages: rapidfuzz, Levenshtein, python-Levenshtein\n",
      "Successfully installed Levenshtein-0.25.1 python-Levenshtein-0.25.1 rapidfuzz-3.9.7\n"
     ]
    }
   ],
   "source": [
    "!pip install gensim"
   ]
  },
  {
   "cell_type": "code",
   "execution_count": 2,
   "id": "5638b08d-1aef-48ce-8260-07b095476b02",
   "metadata": {},
   "outputs": [],
   "source": [
    "import gensim\n",
    "import pandas as pd"
   ]
  },
  {
   "cell_type": "code",
   "execution_count": 6,
   "id": "d2db64b1-5462-44c4-9db9-052dcd1e3b2d",
   "metadata": {},
   "outputs": [],
   "source": [
    "df = pd.read_json(r\"C:\\Users\\HP\\Desktop\\reviews_Cell_Phones_and_Accessories_5.json.gz\", lines=True)"
   ]
  },
  {
   "cell_type": "code",
   "execution_count": 7,
   "id": "07803d3a-55e9-4977-b2f9-d8a781217a4e",
   "metadata": {
    "scrolled": true
   },
   "outputs": [
    {
     "data": {
      "text/html": [
       "<div>\n",
       "<style scoped>\n",
       "    .dataframe tbody tr th:only-of-type {\n",
       "        vertical-align: middle;\n",
       "    }\n",
       "\n",
       "    .dataframe tbody tr th {\n",
       "        vertical-align: top;\n",
       "    }\n",
       "\n",
       "    .dataframe thead th {\n",
       "        text-align: right;\n",
       "    }\n",
       "</style>\n",
       "<table border=\"1\" class=\"dataframe\">\n",
       "  <thead>\n",
       "    <tr style=\"text-align: right;\">\n",
       "      <th></th>\n",
       "      <th>reviewerID</th>\n",
       "      <th>asin</th>\n",
       "      <th>reviewerName</th>\n",
       "      <th>helpful</th>\n",
       "      <th>reviewText</th>\n",
       "      <th>overall</th>\n",
       "      <th>summary</th>\n",
       "      <th>unixReviewTime</th>\n",
       "      <th>reviewTime</th>\n",
       "    </tr>\n",
       "  </thead>\n",
       "  <tbody>\n",
       "    <tr>\n",
       "      <th>0</th>\n",
       "      <td>A30TL5EWN6DFXT</td>\n",
       "      <td>120401325X</td>\n",
       "      <td>christina</td>\n",
       "      <td>[0, 0]</td>\n",
       "      <td>They look good and stick good! I just don't li...</td>\n",
       "      <td>4</td>\n",
       "      <td>Looks Good</td>\n",
       "      <td>1400630400</td>\n",
       "      <td>05 21, 2014</td>\n",
       "    </tr>\n",
       "    <tr>\n",
       "      <th>1</th>\n",
       "      <td>ASY55RVNIL0UD</td>\n",
       "      <td>120401325X</td>\n",
       "      <td>emily l.</td>\n",
       "      <td>[0, 0]</td>\n",
       "      <td>These stickers work like the review says they ...</td>\n",
       "      <td>5</td>\n",
       "      <td>Really great product.</td>\n",
       "      <td>1389657600</td>\n",
       "      <td>01 14, 2014</td>\n",
       "    </tr>\n",
       "    <tr>\n",
       "      <th>2</th>\n",
       "      <td>A2TMXE2AFO7ONB</td>\n",
       "      <td>120401325X</td>\n",
       "      <td>Erica</td>\n",
       "      <td>[0, 0]</td>\n",
       "      <td>These are awesome and make my phone look so st...</td>\n",
       "      <td>5</td>\n",
       "      <td>LOVE LOVE LOVE</td>\n",
       "      <td>1403740800</td>\n",
       "      <td>06 26, 2014</td>\n",
       "    </tr>\n",
       "    <tr>\n",
       "      <th>3</th>\n",
       "      <td>AWJ0WZQYMYFQ4</td>\n",
       "      <td>120401325X</td>\n",
       "      <td>JM</td>\n",
       "      <td>[4, 4]</td>\n",
       "      <td>Item arrived in great time and was in perfect ...</td>\n",
       "      <td>4</td>\n",
       "      <td>Cute!</td>\n",
       "      <td>1382313600</td>\n",
       "      <td>10 21, 2013</td>\n",
       "    </tr>\n",
       "    <tr>\n",
       "      <th>4</th>\n",
       "      <td>ATX7CZYFXI1KW</td>\n",
       "      <td>120401325X</td>\n",
       "      <td>patrice m rogoza</td>\n",
       "      <td>[2, 3]</td>\n",
       "      <td>awesome! stays on, and looks great. can be use...</td>\n",
       "      <td>5</td>\n",
       "      <td>leopard home button sticker for iphone 4s</td>\n",
       "      <td>1359849600</td>\n",
       "      <td>02 3, 2013</td>\n",
       "    </tr>\n",
       "    <tr>\n",
       "      <th>...</th>\n",
       "      <td>...</td>\n",
       "      <td>...</td>\n",
       "      <td>...</td>\n",
       "      <td>...</td>\n",
       "      <td>...</td>\n",
       "      <td>...</td>\n",
       "      <td>...</td>\n",
       "      <td>...</td>\n",
       "      <td>...</td>\n",
       "    </tr>\n",
       "    <tr>\n",
       "      <th>194434</th>\n",
       "      <td>A1YMNTFLNDYQ1F</td>\n",
       "      <td>B00LORXVUE</td>\n",
       "      <td>eyeused2loveher</td>\n",
       "      <td>[0, 0]</td>\n",
       "      <td>Works great just like my original one. I reall...</td>\n",
       "      <td>5</td>\n",
       "      <td>This works just perfect!</td>\n",
       "      <td>1405900800</td>\n",
       "      <td>07 21, 2014</td>\n",
       "    </tr>\n",
       "    <tr>\n",
       "      <th>194435</th>\n",
       "      <td>A15TX8B2L8B20S</td>\n",
       "      <td>B00LORXVUE</td>\n",
       "      <td>Jon Davidson</td>\n",
       "      <td>[0, 0]</td>\n",
       "      <td>Great product. Great packaging. High quality a...</td>\n",
       "      <td>5</td>\n",
       "      <td>Great replacement cable. Apple certified</td>\n",
       "      <td>1405900800</td>\n",
       "      <td>07 21, 2014</td>\n",
       "    </tr>\n",
       "    <tr>\n",
       "      <th>194436</th>\n",
       "      <td>A3JI7QRZO1QG8X</td>\n",
       "      <td>B00LORXVUE</td>\n",
       "      <td>Joyce M. Davidson</td>\n",
       "      <td>[0, 0]</td>\n",
       "      <td>This is a great cable, just as good as the mor...</td>\n",
       "      <td>5</td>\n",
       "      <td>Real quality</td>\n",
       "      <td>1405900800</td>\n",
       "      <td>07 21, 2014</td>\n",
       "    </tr>\n",
       "    <tr>\n",
       "      <th>194437</th>\n",
       "      <td>A1NHB2VC68YQNM</td>\n",
       "      <td>B00LORXVUE</td>\n",
       "      <td>Nurse Farrugia</td>\n",
       "      <td>[0, 0]</td>\n",
       "      <td>I really like it becasue it works well with my...</td>\n",
       "      <td>5</td>\n",
       "      <td>I really like it becasue it works well with my...</td>\n",
       "      <td>1405814400</td>\n",
       "      <td>07 20, 2014</td>\n",
       "    </tr>\n",
       "    <tr>\n",
       "      <th>194438</th>\n",
       "      <td>A1AG6U022WHXBF</td>\n",
       "      <td>B00LORXVUE</td>\n",
       "      <td>Trisha Crocker</td>\n",
       "      <td>[0, 0]</td>\n",
       "      <td>product as described, I have wasted a lot of m...</td>\n",
       "      <td>5</td>\n",
       "      <td>I have wasted a lot of money on cords</td>\n",
       "      <td>1405900800</td>\n",
       "      <td>07 21, 2014</td>\n",
       "    </tr>\n",
       "  </tbody>\n",
       "</table>\n",
       "<p>194439 rows × 9 columns</p>\n",
       "</div>"
      ],
      "text/plain": [
       "            reviewerID        asin       reviewerName helpful  \\\n",
       "0       A30TL5EWN6DFXT  120401325X          christina  [0, 0]   \n",
       "1        ASY55RVNIL0UD  120401325X           emily l.  [0, 0]   \n",
       "2       A2TMXE2AFO7ONB  120401325X              Erica  [0, 0]   \n",
       "3        AWJ0WZQYMYFQ4  120401325X                 JM  [4, 4]   \n",
       "4        ATX7CZYFXI1KW  120401325X   patrice m rogoza  [2, 3]   \n",
       "...                ...         ...                ...     ...   \n",
       "194434  A1YMNTFLNDYQ1F  B00LORXVUE    eyeused2loveher  [0, 0]   \n",
       "194435  A15TX8B2L8B20S  B00LORXVUE       Jon Davidson  [0, 0]   \n",
       "194436  A3JI7QRZO1QG8X  B00LORXVUE  Joyce M. Davidson  [0, 0]   \n",
       "194437  A1NHB2VC68YQNM  B00LORXVUE     Nurse Farrugia  [0, 0]   \n",
       "194438  A1AG6U022WHXBF  B00LORXVUE     Trisha Crocker  [0, 0]   \n",
       "\n",
       "                                               reviewText  overall  \\\n",
       "0       They look good and stick good! I just don't li...        4   \n",
       "1       These stickers work like the review says they ...        5   \n",
       "2       These are awesome and make my phone look so st...        5   \n",
       "3       Item arrived in great time and was in perfect ...        4   \n",
       "4       awesome! stays on, and looks great. can be use...        5   \n",
       "...                                                   ...      ...   \n",
       "194434  Works great just like my original one. I reall...        5   \n",
       "194435  Great product. Great packaging. High quality a...        5   \n",
       "194436  This is a great cable, just as good as the mor...        5   \n",
       "194437  I really like it becasue it works well with my...        5   \n",
       "194438  product as described, I have wasted a lot of m...        5   \n",
       "\n",
       "                                                  summary  unixReviewTime  \\\n",
       "0                                              Looks Good      1400630400   \n",
       "1                                   Really great product.      1389657600   \n",
       "2                                          LOVE LOVE LOVE      1403740800   \n",
       "3                                                   Cute!      1382313600   \n",
       "4               leopard home button sticker for iphone 4s      1359849600   \n",
       "...                                                   ...             ...   \n",
       "194434                           This works just perfect!      1405900800   \n",
       "194435           Great replacement cable. Apple certified      1405900800   \n",
       "194436                                       Real quality      1405900800   \n",
       "194437  I really like it becasue it works well with my...      1405814400   \n",
       "194438              I have wasted a lot of money on cords      1405900800   \n",
       "\n",
       "         reviewTime  \n",
       "0       05 21, 2014  \n",
       "1       01 14, 2014  \n",
       "2       06 26, 2014  \n",
       "3       10 21, 2013  \n",
       "4        02 3, 2013  \n",
       "...             ...  \n",
       "194434  07 21, 2014  \n",
       "194435  07 21, 2014  \n",
       "194436  07 21, 2014  \n",
       "194437  07 20, 2014  \n",
       "194438  07 21, 2014  \n",
       "\n",
       "[194439 rows x 9 columns]"
      ]
     },
     "execution_count": 7,
     "metadata": {},
     "output_type": "execute_result"
    }
   ],
   "source": [
    "df"
   ]
  },
  {
   "cell_type": "code",
   "execution_count": 8,
   "id": "55e815ec-4297-4d2e-8888-140679928bcf",
   "metadata": {},
   "outputs": [
    {
     "data": {
      "text/plain": [
       "(194439, 9)"
      ]
     },
     "execution_count": 8,
     "metadata": {},
     "output_type": "execute_result"
    }
   ],
   "source": [
    "df.shape"
   ]
  },
  {
   "cell_type": "code",
   "execution_count": 9,
   "id": "c8dc027f-90e4-4da9-ae11-c53d3fd79926",
   "metadata": {},
   "outputs": [
    {
     "data": {
      "text/plain": [
       "0         They look good and stick good! I just don't li...\n",
       "1         These stickers work like the review says they ...\n",
       "2         These are awesome and make my phone look so st...\n",
       "3         Item arrived in great time and was in perfect ...\n",
       "4         awesome! stays on, and looks great. can be use...\n",
       "                                ...                        \n",
       "194434    Works great just like my original one. I reall...\n",
       "194435    Great product. Great packaging. High quality a...\n",
       "194436    This is a great cable, just as good as the mor...\n",
       "194437    I really like it becasue it works well with my...\n",
       "194438    product as described, I have wasted a lot of m...\n",
       "Name: reviewText, Length: 194439, dtype: object"
      ]
     },
     "execution_count": 9,
     "metadata": {},
     "output_type": "execute_result"
    }
   ],
   "source": [
    "df.\treviewText"
   ]
  },
  {
   "cell_type": "code",
   "execution_count": 12,
   "id": "b7081838-736d-4007-b4a2-dc2fab6c93a5",
   "metadata": {},
   "outputs": [
    {
     "data": {
      "text/plain": [
       "0         [they, look, good, and, stick, good, just, don...\n",
       "1         [these, stickers, work, like, the, review, say...\n",
       "2         [these, are, awesome, and, make, my, phone, lo...\n",
       "3         [item, arrived, in, great, time, and, was, in,...\n",
       "4         [awesome, stays, on, and, looks, great, can, b...\n",
       "                                ...                        \n",
       "194434    [works, great, just, like, my, original, one, ...\n",
       "194435    [great, product, great, packaging, high, quali...\n",
       "194436    [this, is, great, cable, just, as, good, as, t...\n",
       "194437    [really, like, it, becasue, it, works, well, w...\n",
       "194438    [product, as, described, have, wasted, lot, of...\n",
       "Name: reviewText, Length: 194439, dtype: object"
      ]
     },
     "execution_count": 12,
     "metadata": {},
     "output_type": "execute_result"
    }
   ],
   "source": [
    "#preprocessing the reviewtest using gensim.utils.simple_preprocess\n",
    "review_text = df.reviewText.apply(gensim.utils.simple_preprocess)\n",
    "review_text"
   ]
  },
  {
   "cell_type": "code",
   "execution_count": 13,
   "id": "cedac77a-850c-44d5-b093-a4c77fd3a146",
   "metadata": {
    "scrolled": true
   },
   "outputs": [
    {
     "data": {
      "text/plain": [
       "['they',\n",
       " 'look',\n",
       " 'good',\n",
       " 'and',\n",
       " 'stick',\n",
       " 'good',\n",
       " 'just',\n",
       " 'don',\n",
       " 'like',\n",
       " 'the',\n",
       " 'rounded',\n",
       " 'shape',\n",
       " 'because',\n",
       " 'was',\n",
       " 'always',\n",
       " 'bumping',\n",
       " 'it',\n",
       " 'and',\n",
       " 'siri',\n",
       " 'kept',\n",
       " 'popping',\n",
       " 'up',\n",
       " 'and',\n",
       " 'it',\n",
       " 'was',\n",
       " 'irritating',\n",
       " 'just',\n",
       " 'won',\n",
       " 'buy',\n",
       " 'product',\n",
       " 'like',\n",
       " 'this',\n",
       " 'again']"
      ]
     },
     "execution_count": 13,
     "metadata": {},
     "output_type": "execute_result"
    }
   ],
   "source": [
    "review_text.loc[0]"
   ]
  },
  {
   "cell_type": "code",
   "execution_count": 17,
   "id": "2e81ae32-3a16-435c-ac9d-f766b4ad18af",
   "metadata": {},
   "outputs": [],
   "source": [
    "#Training the Word2Vec Model\n",
    "model = gensim.models.Word2Vec(window=10,\n",
    "    min_count=2,\n",
    "    workers=4,)"
   ]
  },
  {
   "cell_type": "code",
   "execution_count": 18,
   "id": "5efe0d0c-e60c-4b06-99a7-c308070f23c6",
   "metadata": {},
   "outputs": [],
   "source": [
    "#Build Vocabulary\n",
    "model.build_vocab(review_text, progress_per=1000)"
   ]
  },
  {
   "cell_type": "code",
   "execution_count": 20,
   "id": "6303b9bc-a644-4fc0-bc6a-0a852df41735",
   "metadata": {},
   "outputs": [
    {
     "data": {
      "text/plain": [
       "(61504229, 83868975)"
      ]
     },
     "execution_count": 20,
     "metadata": {},
     "output_type": "execute_result"
    }
   ],
   "source": [
    "model.train(review_text, total_examples= model.corpus_count,epochs=model.epochs)"
   ]
  },
  {
   "cell_type": "code",
   "execution_count": 21,
   "id": "74600e06-f287-41dd-a35d-72e49c4e386e",
   "metadata": {},
   "outputs": [],
   "source": [
    "# Save the model (optional)\n",
    "model.save(\"./word2vec-accessories-reviews-short.model\")"
   ]
  },
  {
   "cell_type": "code",
   "execution_count": 24,
   "id": "6b58d5f1-f013-4f6c-bb8d-f64970239351",
   "metadata": {},
   "outputs": [
    {
     "data": {
      "text/plain": [
       "[('weird', 0.5413308143615723),\n",
       " ('natural', 0.5017049312591553),\n",
       " ('funny', 0.4971058964729309),\n",
       " ('silly', 0.49038222432136536),\n",
       " ('liked', 0.48600584268569946),\n",
       " ('love', 0.4832748770713806),\n",
       " ('dislike', 0.4644166827201843),\n",
       " ('cool', 0.46212151646614075),\n",
       " ('nice', 0.45228612422943115),\n",
       " ('prefer', 0.44159817695617676)]"
      ]
     },
     "execution_count": 24,
     "metadata": {},
     "output_type": "execute_result"
    }
   ],
   "source": [
    "model.wv.most_similar(\"like\")"
   ]
  },
  {
   "cell_type": "code",
   "execution_count": 27,
   "id": "7b5cce1b-6c7f-4ae4-947b-e95b5b282541",
   "metadata": {},
   "outputs": [
    {
     "data": {
      "text/plain": [
       "1.0"
      ]
     },
     "execution_count": 27,
     "metadata": {},
     "output_type": "execute_result"
    }
   ],
   "source": [
    "model.wv.similarity(w1=\"good\", w2=\"good\")"
   ]
  },
  {
   "cell_type": "code",
   "execution_count": null,
   "id": "dcd85512-ba9c-4def-be64-9684c6ef6afc",
   "metadata": {},
   "outputs": [],
   "source": []
  }
 ],
 "metadata": {
  "kernelspec": {
   "display_name": "Python 3 (ipykernel)",
   "language": "python",
   "name": "python3"
  },
  "language_info": {
   "codemirror_mode": {
    "name": "ipython",
    "version": 3
   },
   "file_extension": ".py",
   "mimetype": "text/x-python",
   "name": "python",
   "nbconvert_exporter": "python",
   "pygments_lexer": "ipython3",
   "version": "3.8.19"
  }
 },
 "nbformat": 4,
 "nbformat_minor": 5
}

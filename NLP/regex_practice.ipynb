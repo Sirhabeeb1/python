{
 "cells": [
  {
   "cell_type": "code",
   "execution_count": 1,
   "id": "ab4cfec5-1108-4427-89af-b9978771fb26",
   "metadata": {},
   "outputs": [],
   "source": [
    "import re"
   ]
  },
  {
   "cell_type": "code",
   "execution_count": 2,
   "id": "08f734ab-1750-4d97-a2bb-5449f7325d4a",
   "metadata": {},
   "outputs": [
    {
     "name": "stdout",
     "output_type": "stream",
     "text": [
      "the phone is: 907-377-3469\n"
     ]
    }
   ],
   "source": [
    "PhoneNumber = re.compile(r'\\d{3}-\\d{3}-\\d{4}')\n",
    "message = PhoneNumber.search(\"the customer phone number is 907-377-3469\")\n",
    "print(f\"the phone is: {message.group()}\" )\n",
    "\n"
   ]
  },
  {
   "cell_type": "code",
   "execution_count": 3,
   "id": "6b4be5fa-f572-4cf4-b096-c953ec98a87d",
   "metadata": {},
   "outputs": [
    {
     "name": "stdout",
     "output_type": "stream",
     "text": [
      "the customer numbers are ['907-377-3469', '907-377-6754']\n"
     ]
    }
   ],
   "source": [
    "pattern = (r'\\d{3}-\\d{3}-\\d{4}')\n",
    "customer = \"the customer phone number is 907-377-3469 and 907-377-6754\"\n",
    "mo = re.findall(pattern, customer)\n",
    "print(f\"the customer numbers are {mo}\")"
   ]
  },
  {
   "cell_type": "code",
   "execution_count": 4,
   "id": "1faca3db-f43c-4a20-91a2-9d025efbe95a",
   "metadata": {},
   "outputs": [
    {
     "name": "stdout",
     "output_type": "stream",
     "text": [
      "the phone is: 377-3469\n"
     ]
    }
   ],
   "source": [
    "PhoneNumber = re.compile(r'(\\d{3})-(\\d{3}-\\d{4})')\n",
    "message = PhoneNumber.search(\"the customer phone number is 907-377-3469 and 907-734-7546\")\n",
    "print(f\"the phone is: {message.group(2)}\" )\n"
   ]
  },
  {
   "cell_type": "code",
   "execution_count": 5,
   "id": "b8748f5a-17cc-488a-9896-4a50378ad445",
   "metadata": {},
   "outputs": [
    {
     "name": "stdout",
     "output_type": "stream",
     "text": [
      "the customer numbers are [('907', '377-3469'), ('907', '377-6754')]\n"
     ]
    }
   ],
   "source": [
    "pattern = (r'(\\d{3})-(\\d{3}-\\d{4})')\n",
    "customer = \"the customer phone number is 907-377-3469 and 907-377-6754\"\n",
    "mo = re.findall(pattern, customer)\n",
    "print(f\"the customer numbers are {mo}\")"
   ]
  },
  {
   "cell_type": "code",
   "execution_count": 6,
   "id": "854bdfcd-e17c-466e-ab6e-b6fa80859e3b",
   "metadata": {},
   "outputs": [
    {
     "data": {
      "text/plain": [
       "'415'"
      ]
     },
     "execution_count": 6,
     "metadata": {},
     "output_type": "execute_result"
    }
   ],
   "source": [
    "phoneNumRegex = re.compile(r'\\((\\d{3})\\) (\\d{3}-\\d{4})')\n",
    "mo = phoneNumRegex.search('My phone number is (415) 555-4242')\n",
    "mo.group(1)\n",
    "#mo.group(0)"
   ]
  },
  {
   "cell_type": "code",
   "execution_count": 7,
   "id": "32bfb96c-cd75-4876-b8cb-863545a55b2a",
   "metadata": {},
   "outputs": [
    {
     "name": "stdout",
     "output_type": "stream",
     "text": [
      "['Batman', 'Tina Fey']\n"
     ]
    }
   ],
   "source": [
    "patern = r'Batman|Tina Fey'\n",
    "text = 'Batman and Tina Fey'\n",
    "text_search = re.findall(patern, text)\n",
    "print(text_search)"
   ]
  },
  {
   "cell_type": "code",
   "execution_count": 8,
   "id": "1122f95d-208b-41cf-96ec-d67bb6098a26",
   "metadata": {},
   "outputs": [
    {
     "data": {
      "text/plain": [
       "'BatWoman'"
      ]
     },
     "execution_count": 8,
     "metadata": {},
     "output_type": "execute_result"
    }
   ],
   "source": [
    "batreg = re.compile(r'Bat(wo)?man', re.IGNORECASE)\n",
    "batSearch = batreg.search('the BatWoman is superpower')\n",
    "batSearch.group()"
   ]
  },
  {
   "cell_type": "code",
   "execution_count": 9,
   "id": "1e17e760-3a9b-4034-8d89-d4ba926718d5",
   "metadata": {},
   "outputs": [
    {
     "data": {
      "text/plain": [
       "'415-555-4242'"
      ]
     },
     "execution_count": 9,
     "metadata": {},
     "output_type": "execute_result"
    }
   ],
   "source": [
    "phoneRegex = re.compile(r'(\\d\\d\\d)?-\\d\\d\\d-\\d\\d\\d\\d')\n",
    "mo1 = phoneRegex.search('My number is 415-555-4242')\n",
    "mo1.group()"
   ]
  },
  {
   "cell_type": "code",
   "execution_count": 10,
   "id": "0392ecba-40b0-479f-b502-2c3f1ac0b511",
   "metadata": {},
   "outputs": [
    {
     "data": {
      "text/plain": [
       "'555-4242'"
      ]
     },
     "execution_count": 10,
     "metadata": {},
     "output_type": "execute_result"
    }
   ],
   "source": [
    "phoneRegex = re.compile(r'(\\d\\d\\d-)?\\d\\d\\d-\\d\\d\\d\\d')\n",
    "mo2 = phoneRegex.search('My number is 555-4242')\n",
    "mo2.group()"
   ]
  },
  {
   "cell_type": "code",
   "execution_count": 11,
   "id": "64b40d84-f0d5-4a23-a507-da87a7a9b9a4",
   "metadata": {},
   "outputs": [
    {
     "data": {
      "text/plain": [
       "'Batwowowowoman'"
      ]
     },
     "execution_count": 11,
     "metadata": {},
     "output_type": "execute_result"
    }
   ],
   "source": [
    "batReg = re.compile(r'Bat(wo)*man', re.IGNORECASE)\n",
    "mo3 = batReg.search('The Adventures of Batwowowowoman')\n",
    "mo3.group()"
   ]
  },
  {
   "cell_type": "code",
   "execution_count": 12,
   "id": "c55e0ab3-0fa6-4407-b016-79a468e3438c",
   "metadata": {},
   "outputs": [
    {
     "data": {
      "text/plain": [
       "'415-555-9999'"
      ]
     },
     "execution_count": 12,
     "metadata": {},
     "output_type": "execute_result"
    }
   ],
   "source": [
    "#search only reurn first instance of match text\n",
    "phoneNumRegex = re.compile(r'\\d{3}-\\d{3}-\\d{4}')\n",
    "mo = phoneNumRegex.search('Cell: 415-555-9999 Work: 212-555-0000') \n",
    "mo.group()"
   ]
  },
  {
   "cell_type": "code",
   "execution_count": 13,
   "id": "82a34c7c-a610-4536-9148-d97d505f0098",
   "metadata": {},
   "outputs": [
    {
     "data": {
      "text/plain": [
       "['415-555-9999', '212-555-0000']"
      ]
     },
     "execution_count": 13,
     "metadata": {},
     "output_type": "execute_result"
    }
   ],
   "source": [
    "phoneNumRegex = (r'\\d{3}-\\d{3}-\\d{4}')\n",
    "mo = 'Cell: 415-555-9999 Work: 212-555-0000' \n",
    "mo_search = re.findall(phoneNumRegex, mo)\n",
    "mo_search"
   ]
  },
  {
   "cell_type": "code",
   "execution_count": 14,
   "id": "d0bd711d-56cb-4102-917f-440a7464e807",
   "metadata": {},
   "outputs": [
    {
     "data": {
      "text/plain": [
       "['12 drummers',\n",
       " '11 pipers',\n",
       " '10 lords',\n",
       " '9 ladies',\n",
       " '8 maids',\n",
       " '7 swans',\n",
       " '6 geese',\n",
       " '5 rings',\n",
       " '4 birds',\n",
       " '3 hens',\n",
       " '2 doves',\n",
       " '1 partridge']"
      ]
     },
     "execution_count": 14,
     "metadata": {},
     "output_type": "execute_result"
    }
   ],
   "source": [
    "xmasRegex = re.compile(r'\\d+\\s\\w+')\n",
    "xmasRegex.findall('12 drummers, 11 pipers, 10 lords,9 ladies, 8 maids, 7 swans, 6 geese, 5 rings, 4 birds, 3 hens, 2 doves, 1 partridge')"
   ]
  },
  {
   "cell_type": "code",
   "execution_count": 15,
   "id": "99965cde-b16a-47c7-8cce-e840fbaa7e1e",
   "metadata": {
    "scrolled": true
   },
   "outputs": [
    {
     "data": {
      "text/plain": [
       "['R',\n",
       " 'o',\n",
       " 'b',\n",
       " 'o',\n",
       " 'C',\n",
       " 'o',\n",
       " 'p',\n",
       " 'e',\n",
       " 'a',\n",
       " 't',\n",
       " 's',\n",
       " 'b',\n",
       " 'a',\n",
       " 'b',\n",
       " 'y',\n",
       " 'f',\n",
       " 'o',\n",
       " 'o',\n",
       " 'd',\n",
       " 'B',\n",
       " 'A',\n",
       " 'B',\n",
       " 'Y',\n",
       " 'F',\n",
       " 'O',\n",
       " 'O',\n",
       " 'D']"
      ]
     },
     "execution_count": 15,
     "metadata": {},
     "output_type": "execute_result"
    }
   ],
   "source": [
    "vowelRegex = re.compile(r'[a-zA-Z0-9]')\n",
    "vowelRegex.findall('RoboCop eats baby food. BABY FOOD.')"
   ]
  },
  {
   "cell_type": "code",
   "execution_count": 16,
   "id": "e71fc7cd-7819-4327-be7e-7d2119338f00",
   "metadata": {},
   "outputs": [
    {
     "data": {
      "text/plain": [
       "<re.Match object; span=(0, 5), match='Hello'>"
      ]
     },
     "execution_count": 16,
     "metadata": {},
     "output_type": "execute_result"
    }
   ],
   "source": [
    "#caret symbol mean to search for word that start with hello\n",
    "beginsWithHello = re.compile(r'^Hello')\n",
    "beginsWithHello.search('Hello world!')"
   ]
  },
  {
   "cell_type": "code",
   "execution_count": 17,
   "id": "e4246524-61be-4c3c-a359-3f6b59c98bfa",
   "metadata": {},
   "outputs": [
    {
     "data": {
      "text/plain": [
       "<re.Match object; span=(0, 10), match='1234567890'>"
      ]
     },
     "execution_count": 17,
     "metadata": {},
     "output_type": "execute_result"
    }
   ],
   "source": [
    "start_endwithdigit = re.compile(r'^\\d+$')\n",
    "start_endwithdigit.search('1234567890')"
   ]
  },
  {
   "cell_type": "code",
   "execution_count": 18,
   "id": "ef2cb8b9-d4d0-4571-96f0-f36f6468234a",
   "metadata": {},
   "outputs": [
    {
     "data": {
      "text/plain": [
       "['you can make the dot character match all characters, \\n including the newline character.',\n",
       " '']"
      ]
     },
     "execution_count": 18,
     "metadata": {},
     "output_type": "execute_result"
    }
   ],
   "source": [
    "noNewlineRegex = re.compile(r'.*', re.DOTALL)\n",
    "noNew = 'you can make the dot character match all characters, \\n including the newline character.'\n",
    "re.findall(noNewlineRegex, noNew)"
   ]
  },
  {
   "cell_type": "code",
   "execution_count": 19,
   "id": "40b34827-bf07-4ba3-8f5d-0fcd12e50da6",
   "metadata": {},
   "outputs": [
    {
     "data": {
      "text/plain": [
       "'Owner gave the secret documents to Owner.'"
      ]
     },
     "execution_count": 19,
     "metadata": {},
     "output_type": "execute_result"
    }
   ],
   "source": [
    "namesRegex = re.compile(r'Agent \\w+')\n",
    "namesRegex.sub('Owner', 'Agent Alice gave the secret documents to Agent Bob.')"
   ]
  },
  {
   "cell_type": "code",
   "execution_count": null,
   "id": "b2656805-a41d-417e-8df4-d032b121fa93",
   "metadata": {},
   "outputs": [],
   "source": []
  }
 ],
 "metadata": {
  "kernelspec": {
   "display_name": "Python 3 (ipykernel)",
   "language": "python",
   "name": "python3"
  },
  "language_info": {
   "codemirror_mode": {
    "name": "ipython",
    "version": 3
   },
   "file_extension": ".py",
   "mimetype": "text/x-python",
   "name": "python",
   "nbconvert_exporter": "python",
   "pygments_lexer": "ipython3",
   "version": "3.8.19"
  }
 },
 "nbformat": 4,
 "nbformat_minor": 5
}

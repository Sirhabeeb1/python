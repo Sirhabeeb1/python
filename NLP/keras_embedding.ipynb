{
 "cells": [
  {
   "cell_type": "code",
   "execution_count": 1,
   "id": "f8da00e2-11db-4756-afee-f7bd013e5c92",
   "metadata": {},
   "outputs": [],
   "source": [
    "#import the neccessary modules\n",
    "from tensorflow.keras.models import Sequential\n",
    "from tensorflow.keras.layers import Dense, Embedding, Flatten, Activation\n",
    "import numpy as np\n",
    "import pandas as pd \n",
    "from tensorflow.keras.preprocessing.text import one_hot\n",
    "from tensorflow.keras.preprocessing.sequence import pad_sequences"
   ]
  },
  {
   "cell_type": "code",
   "execution_count": 2,
   "id": "257ceace-3215-457b-913e-eb3274f2a94e",
   "metadata": {},
   "outputs": [],
   "source": [
    "#creating variable\n",
    "docs = ['Awesome',\n",
    "        'Fantastic',\n",
    "        'Well done!',\n",
    "\t\t'Good work',\n",
    "\t\t'Great effort',\n",
    "\t\t'nice work',\n",
    "\t\t'Excellent!',\n",
    "\t\t'Weak',\n",
    "\t\t'Poor effort!',\n",
    "\t\t'not good',\n",
    "\t\t'poor work',\n",
    "\t\t'Could have done better.']\n",
    "# define class labels\n",
    "labels = np.array([1,1,1,1,1,1,1,0,0,0,0,0])\n"
   ]
  },
  {
   "cell_type": "code",
   "execution_count": 3,
   "id": "b8bc8aae-1b24-4e46-9459-e540595b0492",
   "metadata": {},
   "outputs": [],
   "source": [
    "vocal_size = 80\n",
    "doc_vector = [one_hot(i, vocal_size) for i in docs]"
   ]
  },
  {
   "cell_type": "code",
   "execution_count": 4,
   "id": "1acfdd61-00e1-4d8c-a151-d73c5308c2a9",
   "metadata": {},
   "outputs": [
    {
     "data": {
      "text/plain": [
       "[[14],\n",
       " [3],\n",
       " [75, 63],\n",
       " [17, 11],\n",
       " [20, 24],\n",
       " [48, 11],\n",
       " [21],\n",
       " [40],\n",
       " [5, 24],\n",
       " [77, 17],\n",
       " [5, 11],\n",
       " [51, 2, 63, 64]]"
      ]
     },
     "execution_count": 4,
     "metadata": {},
     "output_type": "execute_result"
    }
   ],
   "source": [
    "doc_vector"
   ]
  },
  {
   "cell_type": "code",
   "execution_count": 5,
   "id": "61a5b090-fc20-4e10-b6c3-f9562b1bb8fe",
   "metadata": {},
   "outputs": [
    {
     "data": {
      "text/plain": [
       "array([[14,  0,  0,  0],\n",
       "       [ 3,  0,  0,  0],\n",
       "       [75, 63,  0,  0],\n",
       "       [17, 11,  0,  0],\n",
       "       [20, 24,  0,  0],\n",
       "       [48, 11,  0,  0],\n",
       "       [21,  0,  0,  0],\n",
       "       [40,  0,  0,  0],\n",
       "       [ 5, 24,  0,  0],\n",
       "       [77, 17,  0,  0],\n",
       "       [ 5, 11,  0,  0],\n",
       "       [51,  2, 63, 64]])"
      ]
     },
     "execution_count": 5,
     "metadata": {},
     "output_type": "execute_result"
    }
   ],
   "source": [
    "##the interger are not align \n",
    "##making the interger aling using pad_sequence model in keras\n",
    "padded_doc = pad_sequences(doc_vector, maxlen= 4, padding=\"post\")\n",
    "padded_doc"
   ]
  },
  {
   "cell_type": "code",
   "execution_count": 6,
   "id": "78603a0b-4fd9-4317-bd75-f6aa1cca0f64",
   "metadata": {},
   "outputs": [],
   "source": [
    "#defining the model\n",
    "model = Sequential()\n",
    "model.add(Embedding(vocal_size, 8, input_length= 4))\n",
    "model.add(Flatten())\n",
    "model.add(Dense(1, activation='sigmoid'))\n",
    "#compliing the model\n",
    "model.compile(optimizer='adam', loss='binary_crossentropy', metrics=['accuracy'])"
   ]
  },
  {
   "cell_type": "code",
   "execution_count": 7,
   "id": "0bc93afe-1b94-4545-95ad-ec662b593a46",
   "metadata": {},
   "outputs": [
    {
     "name": "stdout",
     "output_type": "stream",
     "text": [
      "Model: \"sequential\"\n",
      "_________________________________________________________________\n",
      " Layer (type)                Output Shape              Param #   \n",
      "=================================================================\n",
      " embedding (Embedding)       (None, 4, 8)              640       \n",
      "                                                                 \n",
      " flatten (Flatten)           (None, 32)                0         \n",
      "                                                                 \n",
      " dense (Dense)               (None, 1)                 33        \n",
      "                                                                 \n",
      "=================================================================\n",
      "Total params: 673\n",
      "Trainable params: 673\n",
      "Non-trainable params: 0\n",
      "_________________________________________________________________\n"
     ]
    }
   ],
   "source": [
    "#summarise the model\n",
    "model.summary()"
   ]
  },
  {
   "cell_type": "code",
   "execution_count": 8,
   "id": "fc2b2937-0cea-407e-95e0-54c7003e243a",
   "metadata": {
    "scrolled": true
   },
   "outputs": [
    {
     "name": "stdout",
     "output_type": "stream",
     "text": [
      "Epoch 1/100\n",
      "1/1 - 1s - loss: 0.6923 - accuracy: 0.6667 - 1s/epoch - 1s/step\n",
      "Epoch 2/100\n",
      "1/1 - 0s - loss: 0.6906 - accuracy: 0.6667 - 5ms/epoch - 5ms/step\n",
      "Epoch 3/100\n",
      "1/1 - 0s - loss: 0.6889 - accuracy: 0.6667 - 6ms/epoch - 6ms/step\n",
      "Epoch 4/100\n",
      "1/1 - 0s - loss: 0.6871 - accuracy: 0.7500 - 8ms/epoch - 8ms/step\n",
      "Epoch 5/100\n",
      "1/1 - 0s - loss: 0.6854 - accuracy: 0.7500 - 9ms/epoch - 9ms/step\n",
      "Epoch 6/100\n",
      "1/1 - 0s - loss: 0.6838 - accuracy: 0.7500 - 8ms/epoch - 8ms/step\n",
      "Epoch 7/100\n",
      "1/1 - 0s - loss: 0.6821 - accuracy: 0.6667 - 10ms/epoch - 10ms/step\n",
      "Epoch 8/100\n",
      "1/1 - 0s - loss: 0.6804 - accuracy: 0.6667 - 8ms/epoch - 8ms/step\n",
      "Epoch 9/100\n",
      "1/1 - 0s - loss: 0.6787 - accuracy: 0.6667 - 10ms/epoch - 10ms/step\n",
      "Epoch 10/100\n",
      "1/1 - 0s - loss: 0.6770 - accuracy: 0.6667 - 8ms/epoch - 8ms/step\n",
      "Epoch 11/100\n",
      "1/1 - 0s - loss: 0.6754 - accuracy: 0.6667 - 10ms/epoch - 10ms/step\n",
      "Epoch 12/100\n",
      "1/1 - 0s - loss: 0.6737 - accuracy: 0.7500 - 7ms/epoch - 7ms/step\n",
      "Epoch 13/100\n",
      "1/1 - 0s - loss: 0.6721 - accuracy: 0.7500 - 11ms/epoch - 11ms/step\n",
      "Epoch 14/100\n",
      "1/1 - 0s - loss: 0.6704 - accuracy: 0.7500 - 8ms/epoch - 8ms/step\n",
      "Epoch 15/100\n",
      "1/1 - 0s - loss: 0.6687 - accuracy: 0.7500 - 15ms/epoch - 15ms/step\n",
      "Epoch 16/100\n",
      "1/1 - 0s - loss: 0.6671 - accuracy: 0.7500 - 11ms/epoch - 11ms/step\n",
      "Epoch 17/100\n",
      "1/1 - 0s - loss: 0.6654 - accuracy: 0.7500 - 8ms/epoch - 8ms/step\n",
      "Epoch 18/100\n",
      "1/1 - 0s - loss: 0.6637 - accuracy: 0.7500 - 8ms/epoch - 8ms/step\n",
      "Epoch 19/100\n",
      "1/1 - 0s - loss: 0.6621 - accuracy: 0.7500 - 5ms/epoch - 5ms/step\n",
      "Epoch 20/100\n",
      "1/1 - 0s - loss: 0.6604 - accuracy: 0.7500 - 6ms/epoch - 6ms/step\n",
      "Epoch 21/100\n",
      "1/1 - 0s - loss: 0.6587 - accuracy: 0.7500 - 9ms/epoch - 9ms/step\n",
      "Epoch 22/100\n",
      "1/1 - 0s - loss: 0.6571 - accuracy: 0.7500 - 4ms/epoch - 4ms/step\n",
      "Epoch 23/100\n",
      "1/1 - 0s - loss: 0.6554 - accuracy: 0.7500 - 4ms/epoch - 4ms/step\n",
      "Epoch 24/100\n",
      "1/1 - 0s - loss: 0.6537 - accuracy: 0.7500 - 7ms/epoch - 7ms/step\n",
      "Epoch 25/100\n",
      "1/1 - 0s - loss: 0.6520 - accuracy: 0.7500 - 10ms/epoch - 10ms/step\n",
      "Epoch 26/100\n",
      "1/1 - 0s - loss: 0.6503 - accuracy: 0.7500 - 10ms/epoch - 10ms/step\n",
      "Epoch 27/100\n",
      "1/1 - 0s - loss: 0.6486 - accuracy: 0.7500 - 6ms/epoch - 6ms/step\n",
      "Epoch 28/100\n",
      "1/1 - 0s - loss: 0.6468 - accuracy: 0.7500 - 9ms/epoch - 9ms/step\n",
      "Epoch 29/100\n",
      "1/1 - 0s - loss: 0.6451 - accuracy: 0.7500 - 8ms/epoch - 8ms/step\n",
      "Epoch 30/100\n",
      "1/1 - 0s - loss: 0.6434 - accuracy: 0.7500 - 7ms/epoch - 7ms/step\n",
      "Epoch 31/100\n",
      "1/1 - 0s - loss: 0.6416 - accuracy: 0.7500 - 7ms/epoch - 7ms/step\n",
      "Epoch 32/100\n",
      "1/1 - 0s - loss: 0.6399 - accuracy: 0.7500 - 8ms/epoch - 8ms/step\n",
      "Epoch 33/100\n",
      "1/1 - 0s - loss: 0.6381 - accuracy: 0.7500 - 5ms/epoch - 5ms/step\n",
      "Epoch 34/100\n",
      "1/1 - 0s - loss: 0.6364 - accuracy: 0.7500 - 8ms/epoch - 8ms/step\n",
      "Epoch 35/100\n",
      "1/1 - 0s - loss: 0.6346 - accuracy: 0.7500 - 10ms/epoch - 10ms/step\n",
      "Epoch 36/100\n",
      "1/1 - 0s - loss: 0.6328 - accuracy: 0.7500 - 11ms/epoch - 11ms/step\n",
      "Epoch 37/100\n",
      "1/1 - 0s - loss: 0.6310 - accuracy: 0.7500 - 8ms/epoch - 8ms/step\n",
      "Epoch 38/100\n",
      "1/1 - 0s - loss: 0.6292 - accuracy: 0.7500 - 8ms/epoch - 8ms/step\n",
      "Epoch 39/100\n",
      "1/1 - 0s - loss: 0.6274 - accuracy: 0.7500 - 8ms/epoch - 8ms/step\n",
      "Epoch 40/100\n",
      "1/1 - 0s - loss: 0.6256 - accuracy: 0.7500 - 6ms/epoch - 6ms/step\n",
      "Epoch 41/100\n",
      "1/1 - 0s - loss: 0.6238 - accuracy: 0.7500 - 3ms/epoch - 3ms/step\n",
      "Epoch 42/100\n",
      "1/1 - 0s - loss: 0.6219 - accuracy: 0.7500 - 7ms/epoch - 7ms/step\n",
      "Epoch 43/100\n",
      "1/1 - 0s - loss: 0.6201 - accuracy: 0.7500 - 5ms/epoch - 5ms/step\n",
      "Epoch 44/100\n",
      "1/1 - 0s - loss: 0.6182 - accuracy: 0.7500 - 8ms/epoch - 8ms/step\n",
      "Epoch 45/100\n",
      "1/1 - 0s - loss: 0.6164 - accuracy: 0.7500 - 7ms/epoch - 7ms/step\n",
      "Epoch 46/100\n",
      "1/1 - 0s - loss: 0.6145 - accuracy: 0.7500 - 6ms/epoch - 6ms/step\n",
      "Epoch 47/100\n",
      "1/1 - 0s - loss: 0.6126 - accuracy: 0.7500 - 6ms/epoch - 6ms/step\n",
      "Epoch 48/100\n",
      "1/1 - 0s - loss: 0.6108 - accuracy: 0.7500 - 4ms/epoch - 4ms/step\n",
      "Epoch 49/100\n",
      "1/1 - 0s - loss: 0.6089 - accuracy: 0.7500 - 6ms/epoch - 6ms/step\n",
      "Epoch 50/100\n",
      "1/1 - 0s - loss: 0.6070 - accuracy: 0.7500 - 7ms/epoch - 7ms/step\n",
      "Epoch 51/100\n",
      "1/1 - 0s - loss: 0.6051 - accuracy: 0.7500 - 6ms/epoch - 6ms/step\n",
      "Epoch 52/100\n",
      "1/1 - 0s - loss: 0.6032 - accuracy: 0.7500 - 6ms/epoch - 6ms/step\n",
      "Epoch 53/100\n",
      "1/1 - 0s - loss: 0.6012 - accuracy: 0.7500 - 5ms/epoch - 5ms/step\n",
      "Epoch 54/100\n",
      "1/1 - 0s - loss: 0.5993 - accuracy: 0.7500 - 8ms/epoch - 8ms/step\n",
      "Epoch 55/100\n",
      "1/1 - 0s - loss: 0.5974 - accuracy: 0.7500 - 7ms/epoch - 7ms/step\n",
      "Epoch 56/100\n",
      "1/1 - 0s - loss: 0.5955 - accuracy: 0.7500 - 7ms/epoch - 7ms/step\n",
      "Epoch 57/100\n",
      "1/1 - 0s - loss: 0.5935 - accuracy: 0.7500 - 6ms/epoch - 6ms/step\n",
      "Epoch 58/100\n",
      "1/1 - 0s - loss: 0.5916 - accuracy: 0.7500 - 7ms/epoch - 7ms/step\n",
      "Epoch 59/100\n",
      "1/1 - 0s - loss: 0.5896 - accuracy: 0.7500 - 7ms/epoch - 7ms/step\n",
      "Epoch 60/100\n",
      "1/1 - 0s - loss: 0.5876 - accuracy: 0.7500 - 10ms/epoch - 10ms/step\n",
      "Epoch 61/100\n",
      "1/1 - 0s - loss: 0.5857 - accuracy: 0.7500 - 6ms/epoch - 6ms/step\n",
      "Epoch 62/100\n",
      "1/1 - 0s - loss: 0.5837 - accuracy: 0.7500 - 9ms/epoch - 9ms/step\n",
      "Epoch 63/100\n",
      "1/1 - 0s - loss: 0.5817 - accuracy: 0.7500 - 6ms/epoch - 6ms/step\n",
      "Epoch 64/100\n",
      "1/1 - 0s - loss: 0.5797 - accuracy: 0.7500 - 7ms/epoch - 7ms/step\n",
      "Epoch 65/100\n",
      "1/1 - 0s - loss: 0.5778 - accuracy: 0.7500 - 6ms/epoch - 6ms/step\n",
      "Epoch 66/100\n",
      "1/1 - 0s - loss: 0.5758 - accuracy: 0.7500 - 6ms/epoch - 6ms/step\n",
      "Epoch 67/100\n",
      "1/1 - 0s - loss: 0.5738 - accuracy: 0.7500 - 5ms/epoch - 5ms/step\n",
      "Epoch 68/100\n",
      "1/1 - 0s - loss: 0.5718 - accuracy: 0.7500 - 9ms/epoch - 9ms/step\n",
      "Epoch 69/100\n",
      "1/1 - 0s - loss: 0.5698 - accuracy: 0.7500 - 8ms/epoch - 8ms/step\n",
      "Epoch 70/100\n",
      "1/1 - 0s - loss: 0.5678 - accuracy: 0.7500 - 8ms/epoch - 8ms/step\n",
      "Epoch 71/100\n",
      "1/1 - 0s - loss: 0.5658 - accuracy: 0.7500 - 6ms/epoch - 6ms/step\n",
      "Epoch 72/100\n",
      "1/1 - 0s - loss: 0.5637 - accuracy: 0.7500 - 4ms/epoch - 4ms/step\n",
      "Epoch 73/100\n",
      "1/1 - 0s - loss: 0.5617 - accuracy: 0.7500 - 6ms/epoch - 6ms/step\n",
      "Epoch 74/100\n",
      "1/1 - 0s - loss: 0.5597 - accuracy: 0.7500 - 6ms/epoch - 6ms/step\n",
      "Epoch 75/100\n",
      "1/1 - 0s - loss: 0.5577 - accuracy: 0.7500 - 8ms/epoch - 8ms/step\n",
      "Epoch 76/100\n",
      "1/1 - 0s - loss: 0.5557 - accuracy: 0.7500 - 7ms/epoch - 7ms/step\n",
      "Epoch 77/100\n",
      "1/1 - 0s - loss: 0.5536 - accuracy: 0.7500 - 4ms/epoch - 4ms/step\n",
      "Epoch 78/100\n",
      "1/1 - 0s - loss: 0.5516 - accuracy: 0.7500 - 6ms/epoch - 6ms/step\n",
      "Epoch 79/100\n",
      "1/1 - 0s - loss: 0.5496 - accuracy: 0.7500 - 6ms/epoch - 6ms/step\n",
      "Epoch 80/100\n",
      "1/1 - 0s - loss: 0.5475 - accuracy: 0.7500 - 5ms/epoch - 5ms/step\n",
      "Epoch 81/100\n",
      "1/1 - 0s - loss: 0.5455 - accuracy: 0.7500 - 4ms/epoch - 4ms/step\n",
      "Epoch 82/100\n",
      "1/1 - 0s - loss: 0.5435 - accuracy: 0.7500 - 7ms/epoch - 7ms/step\n",
      "Epoch 83/100\n",
      "1/1 - 0s - loss: 0.5414 - accuracy: 0.8333 - 7ms/epoch - 7ms/step\n",
      "Epoch 84/100\n",
      "1/1 - 0s - loss: 0.5394 - accuracy: 0.8333 - 5ms/epoch - 5ms/step\n",
      "Epoch 85/100\n",
      "1/1 - 0s - loss: 0.5373 - accuracy: 0.8333 - 7ms/epoch - 7ms/step\n",
      "Epoch 86/100\n",
      "1/1 - 0s - loss: 0.5353 - accuracy: 0.8333 - 5ms/epoch - 5ms/step\n",
      "Epoch 87/100\n",
      "1/1 - 0s - loss: 0.5332 - accuracy: 0.8333 - 8ms/epoch - 8ms/step\n",
      "Epoch 88/100\n",
      "1/1 - 0s - loss: 0.5312 - accuracy: 0.8333 - 4ms/epoch - 4ms/step\n",
      "Epoch 89/100\n",
      "1/1 - 0s - loss: 0.5292 - accuracy: 0.8333 - 5ms/epoch - 5ms/step\n",
      "Epoch 90/100\n",
      "1/1 - 0s - loss: 0.5271 - accuracy: 0.8333 - 3ms/epoch - 3ms/step\n",
      "Epoch 91/100\n",
      "1/1 - 0s - loss: 0.5251 - accuracy: 0.8333 - 7ms/epoch - 7ms/step\n",
      "Epoch 92/100\n",
      "1/1 - 0s - loss: 0.5230 - accuracy: 0.8333 - 7ms/epoch - 7ms/step\n",
      "Epoch 93/100\n",
      "1/1 - 0s - loss: 0.5210 - accuracy: 0.8333 - 7ms/epoch - 7ms/step\n",
      "Epoch 94/100\n",
      "1/1 - 0s - loss: 0.5189 - accuracy: 0.8333 - 7ms/epoch - 7ms/step\n",
      "Epoch 95/100\n",
      "1/1 - 0s - loss: 0.5169 - accuracy: 0.8333 - 6ms/epoch - 6ms/step\n",
      "Epoch 96/100\n",
      "1/1 - 0s - loss: 0.5148 - accuracy: 0.8333 - 7ms/epoch - 7ms/step\n",
      "Epoch 97/100\n",
      "1/1 - 0s - loss: 0.5128 - accuracy: 0.8333 - 3ms/epoch - 3ms/step\n",
      "Epoch 98/100\n",
      "1/1 - 0s - loss: 0.5107 - accuracy: 0.8333 - 7ms/epoch - 7ms/step\n",
      "Epoch 99/100\n",
      "1/1 - 0s - loss: 0.5087 - accuracy: 0.8333 - 4ms/epoch - 4ms/step\n",
      "Epoch 100/100\n",
      "1/1 - 0s - loss: 0.5066 - accuracy: 0.8333 - 9ms/epoch - 9ms/step\n"
     ]
    },
    {
     "data": {
      "text/plain": [
       "<keras.callbacks.History at 0x1f7015bd700>"
      ]
     },
     "execution_count": 8,
     "metadata": {},
     "output_type": "execute_result"
    }
   ],
   "source": [
    "#fitting the  model\n",
    "model.fit(padded_doc, labels, epochs=100, verbose=2)"
   ]
  },
  {
   "cell_type": "code",
   "execution_count": 9,
   "id": "099beca7-67b7-4ed8-b19d-b508557cfbff",
   "metadata": {},
   "outputs": [
    {
     "name": "stdout",
     "output_type": "stream",
     "text": [
      "1/1 - 0s - loss: 0.5046 - accuracy: 0.8333 - 436ms/epoch - 436ms/step\n"
     ]
    }
   ],
   "source": [
    "#evaluate the loss and accuracy\n",
    "loss, accuracy = model.evaluate(padded_doc, labels, verbose=2)"
   ]
  },
  {
   "cell_type": "code",
   "execution_count": null,
   "id": "a0df950f-d0e5-4fb9-a979-ecbbae70f674",
   "metadata": {},
   "outputs": [],
   "source": []
  },
  {
   "cell_type": "code",
   "execution_count": null,
   "id": "0e17a8c9-3d1e-4277-9b43-3c8db1783ee5",
   "metadata": {},
   "outputs": [],
   "source": []
  }
 ],
 "metadata": {
  "kernelspec": {
   "display_name": "Python 3 (ipykernel)",
   "language": "python",
   "name": "python3"
  },
  "language_info": {
   "codemirror_mode": {
    "name": "ipython",
    "version": 3
   },
   "file_extension": ".py",
   "mimetype": "text/x-python",
   "name": "python",
   "nbconvert_exporter": "python",
   "pygments_lexer": "ipython3",
   "version": "3.8.19"
  }
 },
 "nbformat": 4,
 "nbformat_minor": 5
}

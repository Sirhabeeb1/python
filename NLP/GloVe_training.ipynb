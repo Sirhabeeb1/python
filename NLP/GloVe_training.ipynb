{
 "cells": [
  {
   "cell_type": "code",
   "execution_count": 1,
   "id": "cf2bf5e3-cc38-42f9-879c-1b3095ba4f68",
   "metadata": {},
   "outputs": [],
   "source": [
    "#import the neccessary modules\n",
    "from tensorflow.keras.models import Sequential\n",
    "from tensorflow.keras.layers import Dense, Embedding, Flatten, Activation\n",
    "import numpy as np\n",
    "import pandas as pd \n",
    "from tensorflow.keras.preprocessing.text import one_hot\n",
    "from tensorflow.keras.preprocessing.sequence import pad_sequences\n",
    "from tensorflow.keras.preprocessing.text import Tokenizer\n",
    "import zipfile"
   ]
  },
  {
   "cell_type": "code",
   "execution_count": 2,
   "id": "8878148d-1681-448a-b415-c1fc70a970a8",
   "metadata": {},
   "outputs": [],
   "source": [
    "#creating variable\n",
    "docs = ['Awesome',\n",
    "        'Fantastic',\n",
    "        'Well done!',\n",
    "\t\t'Good work',\n",
    "\t\t'Great effort',\n",
    "\t\t'nice work',\n",
    "\t\t'Excellent!',\n",
    "\t\t'Weak',\n",
    "\t\t'Poor effort!',\n",
    "\t\t'not good',\n",
    "\t\t'poor work',\n",
    "\t\t'Could have done better.']\n",
    "# define class labels\n",
    "labels = np.array([1,1,1,1,1,1,1,0,0,0,0,0])\n"
   ]
  },
  {
   "cell_type": "code",
   "execution_count": 3,
   "id": "0a3ae91b-723b-446c-b44d-d9110f76e258",
   "metadata": {},
   "outputs": [],
   "source": [
    "#tokinizer\n",
    "t = Tokenizer()\n",
    "t.fit_on_texts(docs)"
   ]
  },
  {
   "cell_type": "code",
   "execution_count": 4,
   "id": "8e8273da-4136-4067-9d12-f92c17236584",
   "metadata": {},
   "outputs": [
    {
     "name": "stdout",
     "output_type": "stream",
     "text": [
      "Word Index: {'work': 1, 'done': 2, 'good': 3, 'effort': 4, 'poor': 5, 'awesome': 6, 'fantastic': 7, 'well': 8, 'great': 9, 'nice': 10, 'excellent': 11, 'weak': 12, 'not': 13, 'could': 14, 'have': 15, 'better': 16}\n",
      "Word Counts: OrderedDict([('awesome', 1), ('fantastic', 1), ('well', 1), ('done', 2), ('good', 2), ('work', 3), ('great', 1), ('effort', 2), ('nice', 1), ('excellent', 1), ('weak', 1), ('poor', 2), ('not', 1), ('could', 1), ('have', 1), ('better', 1)])\n",
      "Total Documents: 12\n"
     ]
    }
   ],
   "source": [
    "# Vocabulary details\n",
    "print(\"Word Index:\", t.word_index)  \n",
    "print(\"Word Counts:\", t.word_counts)  \n",
    "print(\"Total Documents:\", t.document_count)"
   ]
  },
  {
   "cell_type": "code",
   "execution_count": 5,
   "id": "f1efd981-b68d-4b99-aabb-3c63bff20fac",
   "metadata": {},
   "outputs": [
    {
     "data": {
      "text/plain": [
       "17"
      ]
     },
     "execution_count": 5,
     "metadata": {},
     "output_type": "execute_result"
    }
   ],
   "source": [
    "vocal_size = len(t.word_index) +1\n",
    "vocal_size"
   ]
  },
  {
   "cell_type": "code",
   "execution_count": 6,
   "id": "53f5f9ef-5cac-497e-b19f-cca8ee986f6d",
   "metadata": {},
   "outputs": [
    {
     "data": {
      "text/plain": [
       "[[6],\n",
       " [7],\n",
       " [8, 2],\n",
       " [3, 1],\n",
       " [9, 4],\n",
       " [10, 1],\n",
       " [11],\n",
       " [12],\n",
       " [5, 4],\n",
       " [13, 3],\n",
       " [5, 1],\n",
       " [14, 15, 2, 16]]"
      ]
     },
     "execution_count": 6,
     "metadata": {},
     "output_type": "execute_result"
    }
   ],
   "source": [
    "encoding_text = t.texts_to_sequences(docs)\n",
    "encoding_text"
   ]
  },
  {
   "cell_type": "code",
   "execution_count": 7,
   "id": "44fe5f4f-9668-4a8d-a657-f0f662ab205c",
   "metadata": {},
   "outputs": [
    {
     "data": {
      "text/plain": [
       "array([[ 6,  0,  0,  0],\n",
       "       [ 7,  0,  0,  0],\n",
       "       [ 8,  2,  0,  0],\n",
       "       [ 3,  1,  0,  0],\n",
       "       [ 9,  4,  0,  0],\n",
       "       [10,  1,  0,  0],\n",
       "       [11,  0,  0,  0],\n",
       "       [12,  0,  0,  0],\n",
       "       [ 5,  4,  0,  0],\n",
       "       [13,  3,  0,  0],\n",
       "       [ 5,  1,  0,  0],\n",
       "       [14, 15,  2, 16]])"
      ]
     },
     "execution_count": 7,
     "metadata": {},
     "output_type": "execute_result"
    }
   ],
   "source": [
    "max_leng = 4\n",
    "pedding_encoing_text = pad_sequences(encoding_text, maxlen=max_leng, padding=\"post\")\n",
    "pedding_encoing_text"
   ]
  },
  {
   "cell_type": "code",
   "execution_count": 8,
   "id": "336cfdfe-5b13-44bb-a1c2-c0f6f3a86308",
   "metadata": {},
   "outputs": [],
   "source": [
    "filepath = r\"C:\\Users\\HP\\Desktop\\NLP\\glove.6B.zip\"\n",
    "with zipfile.ZipFile(filepath, 'r') as f:\n",
    "    #print(f.namelist())\n",
    "    embedded_dict = {}\n",
    "    with f.open('glove.6B.100d.txt') as file:\n",
    "        for line in file:\n",
    "            token = line.split()\n",
    "            word = token[0]\n",
    "            vector = np.asarray(token[1:], dtype='float32')\n",
    "            embedded_dict[word] =vector\n",
    "            \n",
    "         "
   ]
  },
  {
   "cell_type": "code",
   "execution_count": 9,
   "id": "2505354f-6c6f-4f11-acbe-760775903c10",
   "metadata": {},
   "outputs": [
    {
     "name": "stdout",
     "output_type": "stream",
     "text": [
      "Loaded 400000 word vectors.\n"
     ]
    }
   ],
   "source": [
    "print('Loaded %s word vectors.' % len(embedded_dict))"
   ]
  },
  {
   "cell_type": "code",
   "execution_count": 10,
   "id": "09d6d462-2b67-44aa-b6eb-0d5d1a6e8002",
   "metadata": {},
   "outputs": [],
   "source": [
    "embedded_matrix = np.zeros((vocal_size, 100))\n",
    "for word,i in t.word_index.items():\n",
    "    embedded_index = embedded_dict.get(word)\n",
    "    if embedded_index is not None:\n",
    "        embedded_matrix[i] = embedded_index\n",
    "    "
   ]
  },
  {
   "cell_type": "code",
   "execution_count": 11,
   "id": "7c15c12d-bc05-47b2-a212-844dd816d85f",
   "metadata": {},
   "outputs": [],
   "source": [
    "# define model\n",
    "model = Sequential()\n",
    "model.add(Embedding(vocal_size, 100, weights=[embedded_matrix], input_length=4, trainable=False))\n",
    "#flatten to one dimension\n",
    "model.add(Flatten())\n",
    "model.add(Dense(1, activation='sigmoid'))\n",
    "# compile the model\n",
    "model.compile(optimizer='adam', loss='binary_crossentropy', metrics=['accuracy'])"
   ]
  },
  {
   "cell_type": "code",
   "execution_count": 12,
   "id": "1fa9a637-8cfa-44ab-be80-2cf2bd920ed4",
   "metadata": {
    "scrolled": true
   },
   "outputs": [
    {
     "name": "stdout",
     "output_type": "stream",
     "text": [
      "Model: \"sequential\"\n",
      "_________________________________________________________________\n",
      " Layer (type)                Output Shape              Param #   \n",
      "=================================================================\n",
      " embedding (Embedding)       (None, 4, 100)            1700      \n",
      "                                                                 \n",
      " flatten (Flatten)           (None, 400)               0         \n",
      "                                                                 \n",
      " dense (Dense)               (None, 1)                 401       \n",
      "                                                                 \n",
      "=================================================================\n",
      "Total params: 2,101\n",
      "Trainable params: 401\n",
      "Non-trainable params: 1,700\n",
      "_________________________________________________________________\n",
      "None\n",
      "Epoch 1/50\n",
      "1/1 - 1s - loss: 0.6931 - accuracy: 0.4167 - 1s/epoch - 1s/step\n",
      "Epoch 2/50\n",
      "1/1 - 0s - loss: 0.6931 - accuracy: 0.5833 - 6ms/epoch - 6ms/step\n",
      "Epoch 3/50\n",
      "1/1 - 0s - loss: 0.6930 - accuracy: 0.5833 - 8ms/epoch - 8ms/step\n",
      "Epoch 4/50\n",
      "1/1 - 0s - loss: 0.6929 - accuracy: 0.5833 - 7ms/epoch - 7ms/step\n",
      "Epoch 5/50\n",
      "1/1 - 0s - loss: 0.6928 - accuracy: 0.5833 - 8ms/epoch - 8ms/step\n",
      "Epoch 6/50\n",
      "1/1 - 0s - loss: 0.6927 - accuracy: 0.5833 - 6ms/epoch - 6ms/step\n",
      "Epoch 7/50\n",
      "1/1 - 0s - loss: 0.6927 - accuracy: 0.5833 - 8ms/epoch - 8ms/step\n",
      "Epoch 8/50\n",
      "1/1 - 0s - loss: 0.6926 - accuracy: 0.5833 - 13ms/epoch - 13ms/step\n",
      "Epoch 9/50\n",
      "1/1 - 0s - loss: 0.6925 - accuracy: 0.5833 - 9ms/epoch - 9ms/step\n",
      "Epoch 10/50\n",
      "1/1 - 0s - loss: 0.6924 - accuracy: 0.5833 - 8ms/epoch - 8ms/step\n",
      "Epoch 11/50\n",
      "1/1 - 0s - loss: 0.6923 - accuracy: 0.5833 - 5ms/epoch - 5ms/step\n",
      "Epoch 12/50\n",
      "1/1 - 0s - loss: 0.6922 - accuracy: 0.5833 - 15ms/epoch - 15ms/step\n",
      "Epoch 13/50\n",
      "1/1 - 0s - loss: 0.6922 - accuracy: 0.5833 - 8ms/epoch - 8ms/step\n",
      "Epoch 14/50\n",
      "1/1 - 0s - loss: 0.6921 - accuracy: 0.5833 - 4ms/epoch - 4ms/step\n",
      "Epoch 15/50\n",
      "1/1 - 0s - loss: 0.6920 - accuracy: 0.5833 - 5ms/epoch - 5ms/step\n",
      "Epoch 16/50\n",
      "1/1 - 0s - loss: 0.6919 - accuracy: 0.5833 - 5ms/epoch - 5ms/step\n",
      "Epoch 17/50\n",
      "1/1 - 0s - loss: 0.6918 - accuracy: 0.5833 - 8ms/epoch - 8ms/step\n",
      "Epoch 18/50\n",
      "1/1 - 0s - loss: 0.6918 - accuracy: 0.5833 - 5ms/epoch - 5ms/step\n",
      "Epoch 19/50\n",
      "1/1 - 0s - loss: 0.6917 - accuracy: 0.5833 - 8ms/epoch - 8ms/step\n",
      "Epoch 20/50\n",
      "1/1 - 0s - loss: 0.6916 - accuracy: 0.5833 - 6ms/epoch - 6ms/step\n",
      "Epoch 21/50\n",
      "1/1 - 0s - loss: 0.6915 - accuracy: 0.5833 - 6ms/epoch - 6ms/step\n",
      "Epoch 22/50\n",
      "1/1 - 0s - loss: 0.6915 - accuracy: 0.5833 - 4ms/epoch - 4ms/step\n",
      "Epoch 23/50\n",
      "1/1 - 0s - loss: 0.6914 - accuracy: 0.5833 - 7ms/epoch - 7ms/step\n",
      "Epoch 24/50\n",
      "1/1 - 0s - loss: 0.6913 - accuracy: 0.5833 - 4ms/epoch - 4ms/step\n",
      "Epoch 25/50\n",
      "1/1 - 0s - loss: 0.6912 - accuracy: 0.5833 - 7ms/epoch - 7ms/step\n",
      "Epoch 26/50\n",
      "1/1 - 0s - loss: 0.6912 - accuracy: 0.5833 - 9ms/epoch - 9ms/step\n",
      "Epoch 27/50\n",
      "1/1 - 0s - loss: 0.6911 - accuracy: 0.5833 - 6ms/epoch - 6ms/step\n",
      "Epoch 28/50\n",
      "1/1 - 0s - loss: 0.6910 - accuracy: 0.5833 - 10ms/epoch - 10ms/step\n",
      "Epoch 29/50\n",
      "1/1 - 0s - loss: 0.6909 - accuracy: 0.5833 - 4ms/epoch - 4ms/step\n",
      "Epoch 30/50\n",
      "1/1 - 0s - loss: 0.6909 - accuracy: 0.5833 - 8ms/epoch - 8ms/step\n",
      "Epoch 31/50\n",
      "1/1 - 0s - loss: 0.6908 - accuracy: 0.5833 - 8ms/epoch - 8ms/step\n",
      "Epoch 32/50\n",
      "1/1 - 0s - loss: 0.6907 - accuracy: 0.5833 - 22ms/epoch - 22ms/step\n",
      "Epoch 33/50\n",
      "1/1 - 0s - loss: 0.6906 - accuracy: 0.5833 - 36ms/epoch - 36ms/step\n",
      "Epoch 34/50\n",
      "1/1 - 0s - loss: 0.6906 - accuracy: 0.5833 - 14ms/epoch - 14ms/step\n",
      "Epoch 35/50\n",
      "1/1 - 0s - loss: 0.6905 - accuracy: 0.5833 - 11ms/epoch - 11ms/step\n",
      "Epoch 36/50\n",
      "1/1 - 0s - loss: 0.6904 - accuracy: 0.5833 - 7ms/epoch - 7ms/step\n",
      "Epoch 37/50\n",
      "1/1 - 0s - loss: 0.6903 - accuracy: 0.5833 - 1ms/epoch - 1ms/step\n",
      "Epoch 38/50\n",
      "1/1 - 0s - loss: 0.6903 - accuracy: 0.5833 - 5ms/epoch - 5ms/step\n",
      "Epoch 39/50\n",
      "1/1 - 0s - loss: 0.6902 - accuracy: 0.5833 - 0s/epoch - 0s/step\n",
      "Epoch 40/50\n",
      "1/1 - 0s - loss: 0.6901 - accuracy: 0.5833 - 6ms/epoch - 6ms/step\n",
      "Epoch 41/50\n",
      "1/1 - 0s - loss: 0.6901 - accuracy: 0.5833 - 6ms/epoch - 6ms/step\n",
      "Epoch 42/50\n",
      "1/1 - 0s - loss: 0.6900 - accuracy: 0.5833 - 11ms/epoch - 11ms/step\n",
      "Epoch 43/50\n",
      "1/1 - 0s - loss: 0.6899 - accuracy: 0.5833 - 5ms/epoch - 5ms/step\n",
      "Epoch 44/50\n",
      "1/1 - 0s - loss: 0.6898 - accuracy: 0.5833 - 5ms/epoch - 5ms/step\n",
      "Epoch 45/50\n",
      "1/1 - 0s - loss: 0.6898 - accuracy: 0.5833 - 4ms/epoch - 4ms/step\n",
      "Epoch 46/50\n",
      "1/1 - 0s - loss: 0.6897 - accuracy: 0.5833 - 5ms/epoch - 5ms/step\n",
      "Epoch 47/50\n",
      "1/1 - 0s - loss: 0.6896 - accuracy: 0.5833 - 9ms/epoch - 9ms/step\n",
      "Epoch 48/50\n",
      "1/1 - 0s - loss: 0.6896 - accuracy: 0.5833 - 5ms/epoch - 5ms/step\n",
      "Epoch 49/50\n",
      "1/1 - 0s - loss: 0.6895 - accuracy: 0.5833 - 4ms/epoch - 4ms/step\n",
      "Epoch 50/50\n",
      "1/1 - 0s - loss: 0.6894 - accuracy: 0.5833 - 9ms/epoch - 9ms/step\n",
      "Accuracy: 58.333331\n"
     ]
    }
   ],
   "source": [
    "# summarize the model\n",
    "print(model.summary())\n",
    "# fit the model\n",
    "model.fit(pedding_encoing_text, labels, epochs=50, verbose=2)\n",
    "# evaluate the model\n",
    "loss, accuracy = model.evaluate(pedding_encoing_text, labels, verbose=0)\n",
    "print('Accuracy: %f' % (accuracy*100))"
   ]
  },
  {
   "cell_type": "code",
   "execution_count": null,
   "id": "dd0ba32e-eb64-42f9-af3a-9d6412464337",
   "metadata": {},
   "outputs": [],
   "source": []
  },
  {
   "cell_type": "code",
   "execution_count": null,
   "id": "c729257e-0b62-4677-9403-2d2bee663f9e",
   "metadata": {},
   "outputs": [],
   "source": []
  }
 ],
 "metadata": {
  "kernelspec": {
   "display_name": "Python 3 (ipykernel)",
   "language": "python",
   "name": "python3"
  },
  "language_info": {
   "codemirror_mode": {
    "name": "ipython",
    "version": 3
   },
   "file_extension": ".py",
   "mimetype": "text/x-python",
   "name": "python",
   "nbconvert_exporter": "python",
   "pygments_lexer": "ipython3",
   "version": "3.8.19"
  }
 },
 "nbformat": 4,
 "nbformat_minor": 5
}

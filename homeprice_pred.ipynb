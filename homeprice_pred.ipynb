{
 "cells": [
  {
   "cell_type": "code",
   "execution_count": null,
   "id": "2cd96cdc-356a-4269-ab41-a4305130f7a8",
   "metadata": {},
   "outputs": [],
   "source": [
    "import numpy as np\n",
    "import pandas as pd\n",
    "import matplotlib.pyplot as plt\n",
    "import seaborn as sns\n",
    "from sklearn import linear_model\n",
    "sns.set()"
   ]
  },
  {
   "cell_type": "code",
   "execution_count": null,
   "id": "c47369a8-8487-4d49-97b2-8c1938f772e9",
   "metadata": {
    "scrolled": true
   },
   "outputs": [],
   "source": [
    "#loading file from local file\n",
    "df = pd.read_csv(r\"C:\\Users\\HP\\Desktop\\py-master\\ML\\2_linear_reg_multivariate\\homeprices.csv\")\n",
    "df"
   ]
  },
  {
   "cell_type": "code",
   "execution_count": null,
   "id": "bc519b19-7887-48dd-82e5-c45f75b553dd",
   "metadata": {},
   "outputs": [],
   "source": [
    "#trying to fill the missing value using the median of the bedroom\n",
    "bed = df[\"bedrooms\"].median()"
   ]
  },
  {
   "cell_type": "code",
   "execution_count": null,
   "id": "56eb3eeb-76d6-4b01-920f-02d2096819c3",
   "metadata": {},
   "outputs": [],
   "source": [
    "#adding the median to the bedroom\n",
    "df[\"bedrooms\"] = df[\"bedrooms\"].fillna(bed)"
   ]
  },
  {
   "cell_type": "code",
   "execution_count": null,
   "id": "39478c70-89b3-4138-b791-75cd19ec3879",
   "metadata": {
    "scrolled": true
   },
   "outputs": [],
   "source": [
    "df"
   ]
  },
  {
   "cell_type": "code",
   "execution_count": null,
   "id": "c8fa4327-ba21-419a-a50c-bff929e04e7d",
   "metadata": {},
   "outputs": [],
   "source": [
    "#creating multiple linear regression\n",
    "reg = linear_model.LinearRegression()\n",
    "reg.fit(df[[\"area\", \"bedrooms\", \"age\"]], df.price)"
   ]
  },
  {
   "cell_type": "code",
   "execution_count": null,
   "id": "3d1c65f6-f5e7-4340-98d3-4e58c101b28d",
   "metadata": {},
   "outputs": [],
   "source": [
    "#checking the coefficient\n",
    "reg.coef_"
   ]
  },
  {
   "cell_type": "code",
   "execution_count": null,
   "id": "1e209b59-98df-4548-9223-39fbf7781054",
   "metadata": {},
   "outputs": [],
   "source": [
    "#checking the intercept\n",
    "reg.intercept_"
   ]
  },
  {
   "cell_type": "code",
   "execution_count": null,
   "id": "b5ca620b-5a64-43a2-b37e-388e166848b0",
   "metadata": {},
   "outputs": [],
   "source": [
    "#Given these home prices find out price of a home that has,\n",
    "#3000 sqr ft area, 3 bedrooms, 40 year old**\n",
    "#2500 sqr ft area, 4 bedrooms,  5 year old**"
   ]
  },
  {
   "cell_type": "code",
   "execution_count": null,
   "id": "dd714114-129b-4bc0-b066-5e2c67441338",
   "metadata": {},
   "outputs": [],
   "source": [
    "reg.predict([[3000,3, 40]])"
   ]
  },
  {
   "cell_type": "code",
   "execution_count": null,
   "id": "a536b8e4-16d1-41af-badb-c38b3977cd10",
   "metadata": {},
   "outputs": [],
   "source": [
    "reg.predict([[2500,4, 5]])"
   ]
  },
  {
   "cell_type": "code",
   "execution_count": null,
   "id": "f0879a46-88eb-40ed-90ed-53eaa4861223",
   "metadata": {},
   "outputs": [],
   "source": [
    "#to save the model using joblib\n",
    "import joblib"
   ]
  },
  {
   "cell_type": "code",
   "execution_count": null,
   "id": "f687ccaa-4f07-4129-814c-1ef68301f59d",
   "metadata": {},
   "outputs": [],
   "source": [
    "joblib.dump(reg, r'C:\\Users\\HP\\Desktop\\data science folder\\reg_model.pkl') "
   ]
  },
  {
   "cell_type": "code",
   "execution_count": null,
   "id": "19858fe2-67c2-48ee-a1cf-52bce5207694",
   "metadata": {},
   "outputs": [],
   "source": [
    "#loading the model to predict \n",
    "model = joblib.load(r\"C:\\Users\\HP\\Desktop\\data science folder\\reg_model.pkl\")"
   ]
  },
  {
   "cell_type": "code",
   "execution_count": null,
   "id": "b6f641c5-6283-42f5-8032-041006aaced7",
   "metadata": {},
   "outputs": [],
   "source": [
    "model.predict([[2500,2,5]])"
   ]
  },
  {
   "cell_type": "code",
   "execution_count": null,
   "id": "82783285-e0b2-45c8-a95d-3b1c1f26e577",
   "metadata": {},
   "outputs": [],
   "source": []
  }
 ],
 "metadata": {
  "kernelspec": {
   "display_name": "Python 3 (ipykernel)",
   "language": "python",
   "name": "python3"
  },
  "language_info": {
   "codemirror_mode": {
    "name": "ipython",
    "version": 3
   },
   "file_extension": ".py",
   "mimetype": "text/x-python",
   "name": "python",
   "nbconvert_exporter": "python",
   "pygments_lexer": "ipython3",
   "version": "3.12.3"
  }
 },
 "nbformat": 4,
 "nbformat_minor": 5
}

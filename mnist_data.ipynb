{
 "cells": [
  {
   "cell_type": "code",
   "execution_count": 1,
   "id": "9147ec24-e661-47cc-940c-10008b68ba8a",
   "metadata": {},
   "outputs": [],
   "source": [
    "import numpy as np\n",
    "import pandas as pd\n",
    "from tensorflow import keras\n",
    "from tensorflow.keras.models import Sequential\n",
    "from tensorflow.keras.layers import Activation, Dense, Dropout\n",
    "import io\n",
    "import os\n",
    "from sklearn import metrics\n"
   ]
  },
  {
   "cell_type": "code",
   "execution_count": 2,
   "id": "90d9f4e8-c921-49a0-9a5c-c976d3e6982b",
   "metadata": {},
   "outputs": [],
   "source": [
    "(x_train, y_train), (x_test, y_test) = keras.datasets.mnist.load_data()"
   ]
  },
  {
   "cell_type": "code",
   "execution_count": 3,
   "id": "138da65d-d634-4d8d-b1d2-e9eaea534e26",
   "metadata": {},
   "outputs": [
    {
     "data": {
      "text/plain": [
       "(60000, 28, 28)"
      ]
     },
     "execution_count": 3,
     "metadata": {},
     "output_type": "execute_result"
    }
   ],
   "source": [
    "x_train.shape"
   ]
  },
  {
   "cell_type": "code",
   "execution_count": 4,
   "id": "a5a78c7a-1ddf-4539-8a1c-790f7c93a0bf",
   "metadata": {},
   "outputs": [],
   "source": [
    "x_train = x_train/255\n",
    "x_test = x_test/255"
   ]
  },
  {
   "cell_type": "code",
   "execution_count": 5,
   "id": "cebe4baf-f018-492e-80b1-90f98b96470a",
   "metadata": {},
   "outputs": [
    {
     "data": {
      "text/plain": [
       "(60000, 784)"
      ]
     },
     "metadata": {},
     "output_type": "display_data"
    },
    {
     "data": {
      "text/plain": [
       "(10000, 784)"
      ]
     },
     "metadata": {},
     "output_type": "display_data"
    }
   ],
   "source": [
    "#flattening the shape\n",
    "x_train_flatten = x_train.reshape(len(x_train),28*28)\n",
    "x_test_flatten = x_test.reshape(len(x_test),28*28)\n",
    "display(x_train_flatten.shape)\n",
    "display(x_test_flatten.shape)"
   ]
  },
  {
   "cell_type": "code",
   "execution_count": 6,
   "id": "87cab571-1faf-4ea8-9e6a-0e625b1e7fd7",
   "metadata": {
    "scrolled": true
   },
   "outputs": [
    {
     "name": "stdout",
     "output_type": "stream",
     "text": [
      "Epoch 1/10\n",
      "1875/1875 - 7s - loss: 0.4759 - accuracy: 0.8752 - 7s/epoch - 4ms/step\n",
      "Epoch 2/10\n",
      "1875/1875 - 5s - loss: 0.3041 - accuracy: 0.9154 - 5s/epoch - 3ms/step\n",
      "Epoch 3/10\n",
      "1875/1875 - 5s - loss: 0.2829 - accuracy: 0.9209 - 5s/epoch - 3ms/step\n",
      "Epoch 4/10\n",
      "1875/1875 - 5s - loss: 0.2731 - accuracy: 0.9234 - 5s/epoch - 3ms/step\n",
      "Epoch 5/10\n",
      "1875/1875 - 5s - loss: 0.2668 - accuracy: 0.9255 - 5s/epoch - 3ms/step\n",
      "Epoch 6/10\n",
      "1875/1875 - 6s - loss: 0.2618 - accuracy: 0.9274 - 6s/epoch - 3ms/step\n",
      "Epoch 7/10\n",
      "1875/1875 - 6s - loss: 0.2583 - accuracy: 0.9286 - 6s/epoch - 3ms/step\n",
      "Epoch 8/10\n",
      "1875/1875 - 5s - loss: 0.2554 - accuracy: 0.9293 - 5s/epoch - 3ms/step\n",
      "Epoch 9/10\n",
      "1875/1875 - 5s - loss: 0.2530 - accuracy: 0.9298 - 5s/epoch - 3ms/step\n",
      "Epoch 10/10\n",
      "1875/1875 - 6s - loss: 0.2508 - accuracy: 0.9308 - 6s/epoch - 3ms/step\n"
     ]
    },
    {
     "data": {
      "text/plain": [
       "<keras.callbacks.History at 0x1e961973f10>"
      ]
     },
     "execution_count": 6,
     "metadata": {},
     "output_type": "execute_result"
    }
   ],
   "source": [
    "model = Sequential([\n",
    "    keras.layers.Dense(10, input_shape=(784,), activation='sigmoid')\n",
    "])\n",
    "model.compile(\n",
    "    loss=\"sparse_categorical_crossentropy\",\n",
    "    optimizer=\"adam\", \n",
    "    metrics=[\"accuracy\"]\n",
    ")\n",
    "model.fit(x_train_flatten,  y_train, verbose=2, epochs=10)\n"
   ]
  },
  {
   "cell_type": "code",
   "execution_count": 7,
   "id": "0e734362-84f1-4475-aa6d-6b81f4fa2fea",
   "metadata": {},
   "outputs": [
    {
     "name": "stdout",
     "output_type": "stream",
     "text": [
      "1875/1875 [==============================] - 5s 3ms/step - loss: 0.2458 - accuracy: 0.9329\n"
     ]
    },
    {
     "data": {
      "text/plain": [
       "[0.2457965761423111, 0.9328500032424927]"
      ]
     },
     "execution_count": 7,
     "metadata": {},
     "output_type": "execute_result"
    }
   ],
   "source": [
    "model.evaluate(x_train_flatten,y_train)"
   ]
  },
  {
   "cell_type": "code",
   "execution_count": 9,
   "id": "41baab45-49a8-46c7-9934-e2154f243e8b",
   "metadata": {
    "scrolled": true
   },
   "outputs": [
    {
     "name": "stdout",
     "output_type": "stream",
     "text": [
      "313/313 [==============================] - 1s 2ms/step\n"
     ]
    },
    {
     "data": {
      "text/plain": [
       "array([[0.00394342, 0.00000001, 0.02679282, ..., 0.9998316 , 0.09002694,\n",
       "        0.65526265],\n",
       "       [0.18281715, 0.00448643, 0.99984914, ..., 0.        , 0.10285953,\n",
       "        0.        ],\n",
       "       [0.0001146 , 0.9927474 , 0.72598577, ..., 0.04965056, 0.33636725,\n",
       "        0.03378732],\n",
       "       ...,\n",
       "       [0.00000116, 0.00000043, 0.00152487, ..., 0.18417221, 0.5977263 ,\n",
       "        0.76407295],\n",
       "       [0.00001727, 0.00002653, 0.0000531 , ..., 0.00002168, 0.6529271 ,\n",
       "        0.00001851],\n",
       "       [0.00144723, 0.        , 0.38477963, ..., 0.        , 0.00006217,\n",
       "        0.00000001]], dtype=float32)"
      ]
     },
     "execution_count": 9,
     "metadata": {},
     "output_type": "execute_result"
    }
   ],
   "source": [
    "np.set_printoptions(suppress=True)\n",
    "pred = model.predict(x_test_flatten)\n",
    "pred"
   ]
  },
  {
   "cell_type": "code",
   "execution_count": 20,
   "id": "8bae40f7-25ed-48f2-bd38-5145aec8b240",
   "metadata": {},
   "outputs": [
    {
     "data": {
      "text/plain": [
       "<matplotlib.image.AxesImage at 0x1e97f458610>"
      ]
     },
     "execution_count": 20,
     "metadata": {},
     "output_type": "execute_result"
    },
    {
     "data": {
      "image/png": "[encoded data removed]",
      "text/plain": [
       "<Figure size 480x480 with 1 Axes>"
      ]
     },
     "metadata": {},
     "output_type": "display_data"
    }
   ],
   "source": [
    "import matplotlib.pyplot as plt\n",
    "plt.matshow(x_test[0])"
   ]
  },
  {
   "cell_type": "code",
   "execution_count": 21,
   "id": "571672c1-6a60-40e5-a5d2-a03d755dcbec",
   "metadata": {},
   "outputs": [
    {
     "data": {
      "text/plain": [
       "array([0.00394342, 0.00000001, 0.02679282, 0.97351813, 0.0016556 ,\n",
       "       0.13771816, 0.00000004, 0.9998316 , 0.09002694, 0.65526265],\n",
       "      dtype=float32)"
      ]
     },
     "execution_count": 21,
     "metadata": {},
     "output_type": "execute_result"
    }
   ],
   "source": [
    "pred[0]"
   ]
  },
  {
   "cell_type": "code",
   "execution_count": 22,
   "id": "bd6772db-320c-407b-9cc0-1510a3081cd4",
   "metadata": {},
   "outputs": [
    {
     "data": {
      "text/plain": [
       "7"
      ]
     },
     "execution_count": 22,
     "metadata": {},
     "output_type": "execute_result"
    }
   ],
   "source": [
    "np.argmax(pred[0])"
   ]
  },
  {
   "cell_type": "code",
   "execution_count": null,
   "id": "21546cfe-6103-44e9-b389-aca11b206ba4",
   "metadata": {},
   "outputs": [],
   "source": []
  }
 ],
 "metadata": {
  "kernelspec": {
   "display_name": "Python 3 (ipykernel)",
   "language": "python",
   "name": "python3"
  },
  "language_info": {
   "codemirror_mode": {
    "name": "ipython",
    "version": 3
   },
   "file_extension": ".py",
   "mimetype": "text/x-python",
   "name": "python",
   "nbconvert_exporter": "python",
   "pygments_lexer": "ipython3",
   "version": "3.8.15"
  }
 },
 "nbformat": 4,
 "nbformat_minor": 5
}

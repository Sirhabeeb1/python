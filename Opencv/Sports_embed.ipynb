{
 "cells": [
  {
   "cell_type": "code",
   "execution_count": 1,
   "id": "f506555d-69e4-4990-bb33-183a391211da",
   "metadata": {},
   "outputs": [],
   "source": [
    "import gensim\n",
    "import numpy as np\n",
    "import pandas as pd"
   ]
  },
  {
   "cell_type": "code",
   "execution_count": 2,
   "id": "af1e7112-ae74-46ae-a0fd-2cdbe20f455f",
   "metadata": {
    "scrolled": true
   },
   "outputs": [
    {
     "data": {
      "text/html": [
       "<div>\n",
       "<style scoped>\n",
       "    .dataframe tbody tr th:only-of-type {\n",
       "        vertical-align: middle;\n",
       "    }\n",
       "\n",
       "    .dataframe tbody tr th {\n",
       "        vertical-align: top;\n",
       "    }\n",
       "\n",
       "    .dataframe thead th {\n",
       "        text-align: right;\n",
       "    }\n",
       "</style>\n",
       "<table border=\"1\" class=\"dataframe\">\n",
       "  <thead>\n",
       "    <tr style=\"text-align: right;\">\n",
       "      <th></th>\n",
       "      <th>reviewerID</th>\n",
       "      <th>asin</th>\n",
       "      <th>reviewerName</th>\n",
       "      <th>helpful</th>\n",
       "      <th>reviewText</th>\n",
       "      <th>overall</th>\n",
       "      <th>summary</th>\n",
       "      <th>unixReviewTime</th>\n",
       "      <th>reviewTime</th>\n",
       "    </tr>\n",
       "  </thead>\n",
       "  <tbody>\n",
       "    <tr>\n",
       "      <th>0</th>\n",
       "      <td>AIXZKN4ACSKI</td>\n",
       "      <td>1881509818</td>\n",
       "      <td>David Briner</td>\n",
       "      <td>[0, 0]</td>\n",
       "      <td>This came in on time and I am veru happy with ...</td>\n",
       "      <td>5</td>\n",
       "      <td>Woks very good</td>\n",
       "      <td>1390694400</td>\n",
       "      <td>01 26, 2014</td>\n",
       "    </tr>\n",
       "    <tr>\n",
       "      <th>1</th>\n",
       "      <td>A1L5P841VIO02V</td>\n",
       "      <td>1881509818</td>\n",
       "      <td>Jason A. Kramer</td>\n",
       "      <td>[1, 1]</td>\n",
       "      <td>I had a factory Glock tool that I was using fo...</td>\n",
       "      <td>5</td>\n",
       "      <td>Works as well as the factory tool</td>\n",
       "      <td>1328140800</td>\n",
       "      <td>02 2, 2012</td>\n",
       "    </tr>\n",
       "    <tr>\n",
       "      <th>2</th>\n",
       "      <td>AB2W04NI4OEAD</td>\n",
       "      <td>1881509818</td>\n",
       "      <td>J. Fernald</td>\n",
       "      <td>[2, 2]</td>\n",
       "      <td>If you don't have a 3/32 punch or would like t...</td>\n",
       "      <td>4</td>\n",
       "      <td>It's a punch, that's all.</td>\n",
       "      <td>1330387200</td>\n",
       "      <td>02 28, 2012</td>\n",
       "    </tr>\n",
       "    <tr>\n",
       "      <th>3</th>\n",
       "      <td>A148SVSWKTJKU6</td>\n",
       "      <td>1881509818</td>\n",
       "      <td>Jusitn A. Watts \"Maverick9614\"</td>\n",
       "      <td>[0, 0]</td>\n",
       "      <td>This works no better than any 3/32 punch you w...</td>\n",
       "      <td>4</td>\n",
       "      <td>It's a punch with a Glock logo.</td>\n",
       "      <td>1328400000</td>\n",
       "      <td>02 5, 2012</td>\n",
       "    </tr>\n",
       "    <tr>\n",
       "      <th>4</th>\n",
       "      <td>AAAWJ6LW9WMOO</td>\n",
       "      <td>1881509818</td>\n",
       "      <td>Material Man</td>\n",
       "      <td>[0, 0]</td>\n",
       "      <td>I purchased this thinking maybe I need a speci...</td>\n",
       "      <td>4</td>\n",
       "      <td>Ok,tool does what a regular punch does.</td>\n",
       "      <td>1366675200</td>\n",
       "      <td>04 23, 2013</td>\n",
       "    </tr>\n",
       "    <tr>\n",
       "      <th>...</th>\n",
       "      <td>...</td>\n",
       "      <td>...</td>\n",
       "      <td>...</td>\n",
       "      <td>...</td>\n",
       "      <td>...</td>\n",
       "      <td>...</td>\n",
       "      <td>...</td>\n",
       "      <td>...</td>\n",
       "      <td>...</td>\n",
       "    </tr>\n",
       "    <tr>\n",
       "      <th>296332</th>\n",
       "      <td>A2XX2A4OJCDNLZ</td>\n",
       "      <td>B00LFPS0CY</td>\n",
       "      <td>RatherLiveInKeyWest</td>\n",
       "      <td>[2, 3]</td>\n",
       "      <td>This is a water bottle done right. It is a ver...</td>\n",
       "      <td>5</td>\n",
       "      <td>Hydracentials Sporty 25 Oz Stainless Steel Wat...</td>\n",
       "      <td>1405036800</td>\n",
       "      <td>07 11, 2014</td>\n",
       "    </tr>\n",
       "    <tr>\n",
       "      <th>296333</th>\n",
       "      <td>A3LGT6UZL99IW1</td>\n",
       "      <td>B00LFPS0CY</td>\n",
       "      <td>Richard C. Drew \"Anaal Nathra/Uthe vas Bethod...</td>\n",
       "      <td>[0, 0]</td>\n",
       "      <td>If you're looking for an insulated water bottl...</td>\n",
       "      <td>5</td>\n",
       "      <td>Large, incredibly well made water bottle!</td>\n",
       "      <td>1405641600</td>\n",
       "      <td>07 18, 2014</td>\n",
       "    </tr>\n",
       "    <tr>\n",
       "      <th>296334</th>\n",
       "      <td>ASKZO80Z1RKTR</td>\n",
       "      <td>B00LFPS0CY</td>\n",
       "      <td>Robin Lee</td>\n",
       "      <td>[0, 0]</td>\n",
       "      <td>This Hydracentials Sporty 25 OZ, double insula...</td>\n",
       "      <td>5</td>\n",
       "      <td>\"Great Water Bottle For Hot Day\"......</td>\n",
       "      <td>1405900800</td>\n",
       "      <td>07 21, 2014</td>\n",
       "    </tr>\n",
       "    <tr>\n",
       "      <th>296335</th>\n",
       "      <td>APRNS6DB68LLV</td>\n",
       "      <td>B00LFPS0CY</td>\n",
       "      <td>Rob Slaven \"slavenrm@gmail. com\"</td>\n",
       "      <td>[1, 1]</td>\n",
       "      <td>As usual I received this item free in exchange...</td>\n",
       "      <td>5</td>\n",
       "      <td>A pretty impressive water bottle.  Best I've s...</td>\n",
       "      <td>1405900800</td>\n",
       "      <td>07 21, 2014</td>\n",
       "    </tr>\n",
       "    <tr>\n",
       "      <th>296336</th>\n",
       "      <td>A3UJRNI8UR4871</td>\n",
       "      <td>B00LFPS0CY</td>\n",
       "      <td>Wulfstan \"wulfstan\"</td>\n",
       "      <td>[2, 2]</td>\n",
       "      <td>Hydracentials insulated 25 oz water bottle.Thi...</td>\n",
       "      <td>5</td>\n",
       "      <td>\"Cool\" Bottle!</td>\n",
       "      <td>1405382400</td>\n",
       "      <td>07 15, 2014</td>\n",
       "    </tr>\n",
       "  </tbody>\n",
       "</table>\n",
       "<p>296337 rows × 9 columns</p>\n",
       "</div>"
      ],
      "text/plain": [
       "            reviewerID        asin  \\\n",
       "0         AIXZKN4ACSKI  1881509818   \n",
       "1       A1L5P841VIO02V  1881509818   \n",
       "2        AB2W04NI4OEAD  1881509818   \n",
       "3       A148SVSWKTJKU6  1881509818   \n",
       "4        AAAWJ6LW9WMOO  1881509818   \n",
       "...                ...         ...   \n",
       "296332  A2XX2A4OJCDNLZ  B00LFPS0CY   \n",
       "296333  A3LGT6UZL99IW1  B00LFPS0CY   \n",
       "296334   ASKZO80Z1RKTR  B00LFPS0CY   \n",
       "296335   APRNS6DB68LLV  B00LFPS0CY   \n",
       "296336  A3UJRNI8UR4871  B00LFPS0CY   \n",
       "\n",
       "                                            reviewerName helpful  \\\n",
       "0                                           David Briner  [0, 0]   \n",
       "1                                        Jason A. Kramer  [1, 1]   \n",
       "2                                             J. Fernald  [2, 2]   \n",
       "3                         Jusitn A. Watts \"Maverick9614\"  [0, 0]   \n",
       "4                                           Material Man  [0, 0]   \n",
       "...                                                  ...     ...   \n",
       "296332                               RatherLiveInKeyWest  [2, 3]   \n",
       "296333  Richard C. Drew \"Anaal Nathra/Uthe vas Bethod...  [0, 0]   \n",
       "296334                                         Robin Lee  [0, 0]   \n",
       "296335                  Rob Slaven \"slavenrm@gmail. com\"  [1, 1]   \n",
       "296336                               Wulfstan \"wulfstan\"  [2, 2]   \n",
       "\n",
       "                                               reviewText  overall  \\\n",
       "0       This came in on time and I am veru happy with ...        5   \n",
       "1       I had a factory Glock tool that I was using fo...        5   \n",
       "2       If you don't have a 3/32 punch or would like t...        4   \n",
       "3       This works no better than any 3/32 punch you w...        4   \n",
       "4       I purchased this thinking maybe I need a speci...        4   \n",
       "...                                                   ...      ...   \n",
       "296332  This is a water bottle done right. It is a ver...        5   \n",
       "296333  If you're looking for an insulated water bottl...        5   \n",
       "296334  This Hydracentials Sporty 25 OZ, double insula...        5   \n",
       "296335  As usual I received this item free in exchange...        5   \n",
       "296336  Hydracentials insulated 25 oz water bottle.Thi...        5   \n",
       "\n",
       "                                                  summary  unixReviewTime  \\\n",
       "0                                          Woks very good      1390694400   \n",
       "1                       Works as well as the factory tool      1328140800   \n",
       "2                               It's a punch, that's all.      1330387200   \n",
       "3                         It's a punch with a Glock logo.      1328400000   \n",
       "4                 Ok,tool does what a regular punch does.      1366675200   \n",
       "...                                                   ...             ...   \n",
       "296332  Hydracentials Sporty 25 Oz Stainless Steel Wat...      1405036800   \n",
       "296333          Large, incredibly well made water bottle!      1405641600   \n",
       "296334             \"Great Water Bottle For Hot Day\"......      1405900800   \n",
       "296335  A pretty impressive water bottle.  Best I've s...      1405900800   \n",
       "296336                                     \"Cool\" Bottle!      1405382400   \n",
       "\n",
       "         reviewTime  \n",
       "0       01 26, 2014  \n",
       "1        02 2, 2012  \n",
       "2       02 28, 2012  \n",
       "3        02 5, 2012  \n",
       "4       04 23, 2013  \n",
       "...             ...  \n",
       "296332  07 11, 2014  \n",
       "296333  07 18, 2014  \n",
       "296334  07 21, 2014  \n",
       "296335  07 21, 2014  \n",
       "296336  07 15, 2014  \n",
       "\n",
       "[296337 rows x 9 columns]"
      ]
     },
     "execution_count": 2,
     "metadata": {},
     "output_type": "execute_result"
    }
   ],
   "source": [
    "#importing the Json dataset \n",
    "df = pd.read_json(r\"C:\\Users\\HP\\Desktop\\Sports_and_Outdoors_5.json.zip\", lines=True)\n",
    "df"
   ]
  },
  {
   "cell_type": "code",
   "execution_count": 3,
   "id": "9a5d85d2-8907-4e45-ab4d-0307d65af071",
   "metadata": {
    "scrolled": true
   },
   "outputs": [
    {
     "name": "stdout",
     "output_type": "stream",
     "text": [
      "<class 'pandas.core.frame.DataFrame'>\n",
      "RangeIndex: 296337 entries, 0 to 296336\n",
      "Data columns (total 9 columns):\n",
      " #   Column          Non-Null Count   Dtype \n",
      "---  ------          --------------   ----- \n",
      " 0   reviewerID      296337 non-null  object\n",
      " 1   asin            296337 non-null  object\n",
      " 2   reviewerName    294935 non-null  object\n",
      " 3   helpful         296337 non-null  object\n",
      " 4   reviewText      296337 non-null  object\n",
      " 5   overall         296337 non-null  int64 \n",
      " 6   summary         296337 non-null  object\n",
      " 7   unixReviewTime  296337 non-null  int64 \n",
      " 8   reviewTime      296337 non-null  object\n",
      "dtypes: int64(2), object(7)\n",
      "memory usage: 20.3+ MB\n"
     ]
    }
   ],
   "source": [
    "df.info()"
   ]
  },
  {
   "cell_type": "code",
   "execution_count": 4,
   "id": "00b3c508-45fb-43ab-bd66-2861c86e962d",
   "metadata": {
    "scrolled": true
   },
   "outputs": [
    {
     "data": {
      "text/plain": [
       "0         This came in on time and I am veru happy with ...\n",
       "1         I had a factory Glock tool that I was using fo...\n",
       "2         If you don't have a 3/32 punch or would like t...\n",
       "3         This works no better than any 3/32 punch you w...\n",
       "4         I purchased this thinking maybe I need a speci...\n",
       "                                ...                        \n",
       "296332    This is a water bottle done right. It is a ver...\n",
       "296333    If you're looking for an insulated water bottl...\n",
       "296334    This Hydracentials Sporty 25 OZ, double insula...\n",
       "296335    As usual I received this item free in exchange...\n",
       "296336    Hydracentials insulated 25 oz water bottle.Thi...\n",
       "Name: reviewText, Length: 296337, dtype: object"
      ]
     },
     "execution_count": 4,
     "metadata": {},
     "output_type": "execute_result"
    }
   ],
   "source": [
    "df.reviewText"
   ]
  },
  {
   "cell_type": "code",
   "execution_count": 5,
   "id": "e0819bcd-132a-4af0-ac00-79b888e18404",
   "metadata": {},
   "outputs": [],
   "source": [
    "review_text = df.reviewText.apply(gensim.utils.simple_preprocess)"
   ]
  },
  {
   "cell_type": "code",
   "execution_count": 6,
   "id": "c00edeb7-0fe7-4fe3-9f46-4f1551cced0c",
   "metadata": {},
   "outputs": [],
   "source": [
    "#creating model\n",
    "model = gensim.models.Word2Vec(min_count=2 ,window=7, workers= 4)"
   ]
  },
  {
   "cell_type": "code",
   "execution_count": 7,
   "id": "a357c3bf-2952-4b95-a72c-ddcd579fde42",
   "metadata": {},
   "outputs": [],
   "source": [
    "#building vocabulary\n",
    "model.build_vocab(review_text, progress_per=1000)"
   ]
  },
  {
   "cell_type": "code",
   "execution_count": 8,
   "id": "fbf99e3b-8cff-44b9-9217-533b99b55fd9",
   "metadata": {},
   "outputs": [
    {
     "name": "stdout",
     "output_type": "stream",
     "text": [
      "Epochs: 5\n",
      "Corpus count: 296337\n"
     ]
    }
   ],
   "source": [
    "print(\"Epochs:\", model.epochs)\n",
    "print(\"Corpus count:\", model.corpus_count)"
   ]
  },
  {
   "cell_type": "code",
   "execution_count": 9,
   "id": "f276e8e8-d70e-43c7-b0c1-6e2aa301c4d1",
   "metadata": {},
   "outputs": [
    {
     "data": {
      "text/plain": [
       "(91343769, 121496535)"
      ]
     },
     "execution_count": 9,
     "metadata": {},
     "output_type": "execute_result"
    }
   ],
   "source": [
    "model.train(review_text, total_examples=model.corpus_count, epochs=model.epochs)"
   ]
  },
  {
   "cell_type": "code",
   "execution_count": 10,
   "id": "48d878c2-628b-479f-b207-06c82fe4d25e",
   "metadata": {},
   "outputs": [],
   "source": [
    "model.save(\"./Sports_and_Outdoors_5.model\")"
   ]
  },
  {
   "cell_type": "code",
   "execution_count": 11,
   "id": "fc40ba47-d798-4de4-b49a-e316919af7e0",
   "metadata": {
    "scrolled": true
   },
   "outputs": [
    {
     "data": {
      "text/plain": [
       "[('fantastic', 0.8735412359237671),\n",
       " ('good', 0.7973712086677551),\n",
       " ('terrific', 0.777786374092102),\n",
       " ('wonderful', 0.7480065822601318),\n",
       " ('awesome', 0.7427089214324951),\n",
       " ('perfect', 0.7248983979225159),\n",
       " ('nice', 0.7094948887825012),\n",
       " ('excellent', 0.7089901566505432),\n",
       " ('prefect', 0.6796439290046692),\n",
       " ('wonderfully', 0.6526457071304321)]"
      ]
     },
     "execution_count": 11,
     "metadata": {},
     "output_type": "execute_result"
    }
   ],
   "source": [
    "##Now all that is left is to test if the model\n",
    "#is working correctly or not. You can differentiate whether which word is similar\n",
    "#to each other and along with that, you get a score of their similarity\n",
    "\n",
    "model.wv.similar_by_word(\"great\")"
   ]
  },
  {
   "cell_type": "code",
   "execution_count": 13,
   "id": "ba50fe20-27c7-4c61-8c04-a5b40cac9718",
   "metadata": {
    "scrolled": true
   },
   "outputs": [
    {
     "data": {
      "text/plain": [
       "[('terrible', 0.6980324387550354),\n",
       " ('horrible', 0.6518005132675171),\n",
       " ('shabby', 0.637633740901947),\n",
       " ('lame', 0.555366575717926),\n",
       " ('funny', 0.5522736310958862),\n",
       " ('greatest', 0.5257070660591125),\n",
       " ('good', 0.5224891304969788),\n",
       " ('weak', 0.5080056190490723),\n",
       " ('strange', 0.5055878758430481),\n",
       " ('upset', 0.501564085483551)]"
      ]
     },
     "execution_count": 13,
     "metadata": {},
     "output_type": "execute_result"
    }
   ],
   "source": [
    "# Compute the cosine similarity using a list of word vectors\n",
    "model.wv.most_similar(\"bad\")"
   ]
  },
  {
   "cell_type": "code",
   "execution_count": null,
   "id": "c37b8822-c605-4661-8b58-4d3cf859d794",
   "metadata": {},
   "outputs": [],
   "source": []
  }
 ],
 "metadata": {
  "kernelspec": {
   "display_name": "Python 3 (ipykernel)",
   "language": "python",
   "name": "python3"
  },
  "language_info": {
   "codemirror_mode": {
    "name": "ipython",
    "version": 3
   },
   "file_extension": ".py",
   "mimetype": "text/x-python",
   "name": "python",
   "nbconvert_exporter": "python",
   "pygments_lexer": "ipython3",
   "version": "3.8.19"
  }
 },
 "nbformat": 4,
 "nbformat_minor": 5
}
